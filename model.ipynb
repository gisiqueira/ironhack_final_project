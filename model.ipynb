{
 "cells": [
  {
   "cell_type": "code",
   "execution_count": 1,
   "metadata": {
    "ExecuteTime": {
     "end_time": "2021-04-23T02:18:43.892371Z",
     "start_time": "2021-04-23T02:18:42.518420Z"
    }
   },
   "outputs": [],
   "source": [
    "import pandas as pd\n",
    "import numpy as np\n",
    "import seaborn as sns"
   ]
  },
  {
   "cell_type": "code",
   "execution_count": 2,
   "metadata": {
    "ExecuteTime": {
     "end_time": "2021-04-23T02:18:45.723242Z",
     "start_time": "2021-04-23T02:18:44.893565Z"
    }
   },
   "outputs": [],
   "source": [
    "import matplotlib.pyplot as plt\n",
    "from sklearn import tree\n",
    "from sklearn.ensemble import RandomForestClassifier"
   ]
  },
  {
   "cell_type": "code",
   "execution_count": 198,
   "metadata": {
    "ExecuteTime": {
     "end_time": "2021-04-23T02:32:07.519301Z",
     "start_time": "2021-04-23T02:32:07.502346Z"
    }
   },
   "outputs": [],
   "source": [
    "oscar = pd.read_csv('C:/Users/gisiq/Documents/Cursos/Ironhack/projeto_final/oscar_model_final.csv')"
   ]
  },
  {
   "cell_type": "code",
   "execution_count": 80,
   "metadata": {
    "ExecuteTime": {
     "end_time": "2021-04-23T02:25:57.500615Z",
     "start_time": "2021-04-23T02:25:57.440779Z"
    }
   },
   "outputs": [
    {
     "data": {
      "text/html": [
       "<div>\n",
       "<style scoped>\n",
       "    .dataframe tbody tr th:only-of-type {\n",
       "        vertical-align: middle;\n",
       "    }\n",
       "\n",
       "    .dataframe tbody tr th {\n",
       "        vertical-align: top;\n",
       "    }\n",
       "\n",
       "    .dataframe thead th {\n",
       "        text-align: right;\n",
       "    }\n",
       "</style>\n",
       "<table border=\"1\" class=\"dataframe\">\n",
       "  <thead>\n",
       "    <tr style=\"text-align: right;\">\n",
       "      <th></th>\n",
       "      <th>Unnamed: 0</th>\n",
       "      <th>imdb_title_id</th>\n",
       "      <th>title</th>\n",
       "      <th>title_pt</th>\n",
       "      <th>year</th>\n",
       "      <th>avg_vote</th>\n",
       "      <th>votes</th>\n",
       "      <th>metascore</th>\n",
       "      <th>runtime</th>\n",
       "      <th>genre</th>\n",
       "      <th>...</th>\n",
       "      <th>worlwide_gross_income</th>\n",
       "      <th>description</th>\n",
       "      <th>win</th>\n",
       "      <th>Won Golden Globe</th>\n",
       "      <th>Won Bafta</th>\n",
       "      <th>Oscar Nominations</th>\n",
       "      <th>Golden Globe Nominations</th>\n",
       "      <th>Bafta Nominations</th>\n",
       "      <th>Won Directors</th>\n",
       "      <th>Won Actors</th>\n",
       "    </tr>\n",
       "  </thead>\n",
       "  <tbody>\n",
       "    <tr>\n",
       "      <th>0</th>\n",
       "      <td>0</td>\n",
       "      <td>tt6294822</td>\n",
       "      <td>The Post</td>\n",
       "      <td>The Post: A Guerra Secreta</td>\n",
       "      <td>2017</td>\n",
       "      <td>7.2</td>\n",
       "      <td>130017.0</td>\n",
       "      <td>8.3</td>\n",
       "      <td>116.0</td>\n",
       "      <td>Drama</td>\n",
       "      <td>...</td>\n",
       "      <td>192938646.0</td>\n",
       "      <td>A cover-up spanning four U.S. Presidents pushe...</td>\n",
       "      <td>0</td>\n",
       "      <td>0.0</td>\n",
       "      <td>0.0</td>\n",
       "      <td>2.0</td>\n",
       "      <td>6.0</td>\n",
       "      <td>0.0</td>\n",
       "      <td>0.0</td>\n",
       "      <td>0.0</td>\n",
       "    </tr>\n",
       "    <tr>\n",
       "      <th>1</th>\n",
       "      <td>1</td>\n",
       "      <td>tt5776858</td>\n",
       "      <td>Il filo nascosto</td>\n",
       "      <td>Trama Fantasma</td>\n",
       "      <td>2017</td>\n",
       "      <td>7.5</td>\n",
       "      <td>106231.0</td>\n",
       "      <td>9.0</td>\n",
       "      <td>130.0</td>\n",
       "      <td>Drama, Romance</td>\n",
       "      <td>...</td>\n",
       "      <td>47756590.0</td>\n",
       "      <td>Set in 1950s London, Reynolds Woodcock is a re...</td>\n",
       "      <td>0</td>\n",
       "      <td>0.0</td>\n",
       "      <td>0.0</td>\n",
       "      <td>6.0</td>\n",
       "      <td>2.0</td>\n",
       "      <td>4.0</td>\n",
       "      <td>0.0</td>\n",
       "      <td>0.0</td>\n",
       "    </tr>\n",
       "    <tr>\n",
       "      <th>2</th>\n",
       "      <td>2</td>\n",
       "      <td>tt5027774</td>\n",
       "      <td>Tre manifesti a Ebbing, Missouri</td>\n",
       "      <td>Três Anúncios para um Crime</td>\n",
       "      <td>2017</td>\n",
       "      <td>8.2</td>\n",
       "      <td>411693.0</td>\n",
       "      <td>8.8</td>\n",
       "      <td>115.0</td>\n",
       "      <td>Comedy, Crime, Drama</td>\n",
       "      <td>...</td>\n",
       "      <td>160192031.0</td>\n",
       "      <td>A mother personally challenges the local autho...</td>\n",
       "      <td>0</td>\n",
       "      <td>1.0</td>\n",
       "      <td>1.0</td>\n",
       "      <td>9.0</td>\n",
       "      <td>6.0</td>\n",
       "      <td>9.0</td>\n",
       "      <td>0.0</td>\n",
       "      <td>1.0</td>\n",
       "    </tr>\n",
       "    <tr>\n",
       "      <th>3</th>\n",
       "      <td>3</td>\n",
       "      <td>tt4925292</td>\n",
       "      <td>Lady Bird</td>\n",
       "      <td>Lady Bird: A Hora de Voar</td>\n",
       "      <td>2017</td>\n",
       "      <td>7.4</td>\n",
       "      <td>228832.0</td>\n",
       "      <td>9.4</td>\n",
       "      <td>94.0</td>\n",
       "      <td>Comedy, Drama</td>\n",
       "      <td>...</td>\n",
       "      <td>79097104.0</td>\n",
       "      <td>In 2002, an artistically inclined seventeen-ye...</td>\n",
       "      <td>0</td>\n",
       "      <td>1.0</td>\n",
       "      <td>0.0</td>\n",
       "      <td>5.0</td>\n",
       "      <td>4.0</td>\n",
       "      <td>1.0</td>\n",
       "      <td>0.0</td>\n",
       "      <td>0.0</td>\n",
       "    </tr>\n",
       "    <tr>\n",
       "      <th>4</th>\n",
       "      <td>4</td>\n",
       "      <td>tt4555426</td>\n",
       "      <td>L'ora più buia</td>\n",
       "      <td>O Destino de uma Nação</td>\n",
       "      <td>2017</td>\n",
       "      <td>7.4</td>\n",
       "      <td>165715.0</td>\n",
       "      <td>7.5</td>\n",
       "      <td>125.0</td>\n",
       "      <td>Biography, Drama, History</td>\n",
       "      <td>...</td>\n",
       "      <td>153129891.0</td>\n",
       "      <td>In May 1940, the fate of World War II hangs on</td>\n",
       "      <td>0</td>\n",
       "      <td>0.0</td>\n",
       "      <td>0.0</td>\n",
       "      <td>6.0</td>\n",
       "      <td>1.0</td>\n",
       "      <td>9.0</td>\n",
       "      <td>0.0</td>\n",
       "      <td>0.0</td>\n",
       "    </tr>\n",
       "    <tr>\n",
       "      <th>...</th>\n",
       "      <td>...</td>\n",
       "      <td>...</td>\n",
       "      <td>...</td>\n",
       "      <td>...</td>\n",
       "      <td>...</td>\n",
       "      <td>...</td>\n",
       "      <td>...</td>\n",
       "      <td>...</td>\n",
       "      <td>...</td>\n",
       "      <td>...</td>\n",
       "      <td>...</td>\n",
       "      <td>...</td>\n",
       "      <td>...</td>\n",
       "      <td>...</td>\n",
       "      <td>...</td>\n",
       "      <td>...</td>\n",
       "      <td>...</td>\n",
       "      <td>...</td>\n",
       "      <td>...</td>\n",
       "      <td>...</td>\n",
       "      <td>...</td>\n",
       "    </tr>\n",
       "    <tr>\n",
       "      <th>550</th>\n",
       "      <td>550</td>\n",
       "      <td>tt10272386</td>\n",
       "      <td>The Father</td>\n",
       "      <td>Meu Pai</td>\n",
       "      <td>2020</td>\n",
       "      <td>8.2</td>\n",
       "      <td>148.0</td>\n",
       "      <td>8.7</td>\n",
       "      <td>97.0</td>\n",
       "      <td>Drama</td>\n",
       "      <td>...</td>\n",
       "      <td>5100000.0</td>\n",
       "      <td>A man refuses all assistance from his daughter...</td>\n",
       "      <td>0</td>\n",
       "      <td>0.0</td>\n",
       "      <td>0.0</td>\n",
       "      <td>6.0</td>\n",
       "      <td>4.0</td>\n",
       "      <td>6.0</td>\n",
       "      <td>0.0</td>\n",
       "      <td>0.0</td>\n",
       "    </tr>\n",
       "    <tr>\n",
       "      <th>551</th>\n",
       "      <td>551</td>\n",
       "      <td>tt9784798</td>\n",
       "      <td>Judas and the Black Messiah</td>\n",
       "      <td>Judas e o Messias Negro</td>\n",
       "      <td>2020</td>\n",
       "      <td>7.6</td>\n",
       "      <td>37135.0</td>\n",
       "      <td>8.5</td>\n",
       "      <td>126.0</td>\n",
       "      <td>Biography, Drama, History</td>\n",
       "      <td>...</td>\n",
       "      <td>6057415.0</td>\n",
       "      <td>Bill O'Neal infiltrates the Black Panther Part...</td>\n",
       "      <td>0</td>\n",
       "      <td>0.0</td>\n",
       "      <td>0.0</td>\n",
       "      <td>5.0</td>\n",
       "      <td>1.0</td>\n",
       "      <td>4.0</td>\n",
       "      <td>0.0</td>\n",
       "      <td>0.0</td>\n",
       "    </tr>\n",
       "    <tr>\n",
       "      <th>552</th>\n",
       "      <td>552</td>\n",
       "      <td>tt9770150</td>\n",
       "      <td>Nomadland</td>\n",
       "      <td>Nomadland</td>\n",
       "      <td>2020</td>\n",
       "      <td>7.5</td>\n",
       "      <td>56344.0</td>\n",
       "      <td>9.3</td>\n",
       "      <td>107.0</td>\n",
       "      <td>Biography, Drama, History</td>\n",
       "      <td>...</td>\n",
       "      <td>5074445.0</td>\n",
       "      <td>A woman in her sixties who, after losing every...</td>\n",
       "      <td>0</td>\n",
       "      <td>1.0</td>\n",
       "      <td>1.0</td>\n",
       "      <td>6.0</td>\n",
       "      <td>4.0</td>\n",
       "      <td>7.0</td>\n",
       "      <td>0.0</td>\n",
       "      <td>0.0</td>\n",
       "    </tr>\n",
       "    <tr>\n",
       "      <th>553</th>\n",
       "      <td>553</td>\n",
       "      <td>tt1070874</td>\n",
       "      <td>The Trial of the Chicago 7</td>\n",
       "      <td>Os 7 de Chicago</td>\n",
       "      <td>2020</td>\n",
       "      <td>7.8</td>\n",
       "      <td>131684.0</td>\n",
       "      <td>7.6</td>\n",
       "      <td>129.0</td>\n",
       "      <td>Drama, History, Thriller</td>\n",
       "      <td>...</td>\n",
       "      <td>115000.0</td>\n",
       "      <td>The story of 7 people on trial stemming from v...</td>\n",
       "      <td>0</td>\n",
       "      <td>0.0</td>\n",
       "      <td>0.0</td>\n",
       "      <td>5.0</td>\n",
       "      <td>4.0</td>\n",
       "      <td>3.0</td>\n",
       "      <td>0.0</td>\n",
       "      <td>0.0</td>\n",
       "    </tr>\n",
       "    <tr>\n",
       "      <th>554</th>\n",
       "      <td>554</td>\n",
       "      <td>tt10618286</td>\n",
       "      <td>Mank</td>\n",
       "      <td>Mank</td>\n",
       "      <td>2020</td>\n",
       "      <td>7.0</td>\n",
       "      <td>54050.0</td>\n",
       "      <td>7.9</td>\n",
       "      <td>131.0</td>\n",
       "      <td>Biography, Comedy, Drama</td>\n",
       "      <td>...</td>\n",
       "      <td>122000.0</td>\n",
       "      <td>1930's Hollywood is reevaluated through the ey...</td>\n",
       "      <td>0</td>\n",
       "      <td>0.0</td>\n",
       "      <td>0.0</td>\n",
       "      <td>10.0</td>\n",
       "      <td>4.0</td>\n",
       "      <td>6.0</td>\n",
       "      <td>0.0</td>\n",
       "      <td>0.0</td>\n",
       "    </tr>\n",
       "  </tbody>\n",
       "</table>\n",
       "<p>555 rows × 25 columns</p>\n",
       "</div>"
      ],
      "text/plain": [
       "     Unnamed: 0 imdb_title_id                             title  \\\n",
       "0             0     tt6294822                          The Post   \n",
       "1             1     tt5776858                  Il filo nascosto   \n",
       "2             2     tt5027774  Tre manifesti a Ebbing, Missouri   \n",
       "3             3     tt4925292                         Lady Bird   \n",
       "4             4     tt4555426                    L'ora più buia   \n",
       "..          ...           ...                               ...   \n",
       "550         550    tt10272386                        The Father   \n",
       "551         551     tt9784798       Judas and the Black Messiah   \n",
       "552         552     tt9770150                         Nomadland   \n",
       "553         553     tt1070874        The Trial of the Chicago 7   \n",
       "554         554    tt10618286                              Mank   \n",
       "\n",
       "                        title_pt  year  avg_vote     votes  metascore  \\\n",
       "0     The Post: A Guerra Secreta  2017       7.2  130017.0        8.3   \n",
       "1                 Trama Fantasma  2017       7.5  106231.0        9.0   \n",
       "2    Três Anúncios para um Crime  2017       8.2  411693.0        8.8   \n",
       "3      Lady Bird: A Hora de Voar  2017       7.4  228832.0        9.4   \n",
       "4         O Destino de uma Nação  2017       7.4  165715.0        7.5   \n",
       "..                           ...   ...       ...       ...        ...   \n",
       "550                      Meu Pai  2020       8.2     148.0        8.7   \n",
       "551      Judas e o Messias Negro  2020       7.6   37135.0        8.5   \n",
       "552                    Nomadland  2020       7.5   56344.0        9.3   \n",
       "553              Os 7 de Chicago  2020       7.8  131684.0        7.6   \n",
       "554                         Mank  2020       7.0   54050.0        7.9   \n",
       "\n",
       "     runtime                      genre  ... worlwide_gross_income  \\\n",
       "0      116.0                      Drama  ...           192938646.0   \n",
       "1      130.0             Drama, Romance  ...            47756590.0   \n",
       "2      115.0       Comedy, Crime, Drama  ...           160192031.0   \n",
       "3       94.0              Comedy, Drama  ...            79097104.0   \n",
       "4      125.0  Biography, Drama, History  ...           153129891.0   \n",
       "..       ...                        ...  ...                   ...   \n",
       "550     97.0                      Drama  ...             5100000.0   \n",
       "551    126.0  Biography, Drama, History  ...             6057415.0   \n",
       "552    107.0  Biography, Drama, History  ...             5074445.0   \n",
       "553    129.0  Drama, History, Thriller   ...              115000.0   \n",
       "554    131.0   Biography, Comedy, Drama  ...              122000.0   \n",
       "\n",
       "                                           description win  Won Golden Globe  \\\n",
       "0    A cover-up spanning four U.S. Presidents pushe...   0               0.0   \n",
       "1    Set in 1950s London, Reynolds Woodcock is a re...   0               0.0   \n",
       "2    A mother personally challenges the local autho...   0               1.0   \n",
       "3    In 2002, an artistically inclined seventeen-ye...   0               1.0   \n",
       "4       In May 1940, the fate of World War II hangs on   0               0.0   \n",
       "..                                                 ...  ..               ...   \n",
       "550  A man refuses all assistance from his daughter...   0               0.0   \n",
       "551  Bill O'Neal infiltrates the Black Panther Part...   0               0.0   \n",
       "552  A woman in her sixties who, after losing every...   0               1.0   \n",
       "553  The story of 7 people on trial stemming from v...   0               0.0   \n",
       "554  1930's Hollywood is reevaluated through the ey...   0               0.0   \n",
       "\n",
       "     Won Bafta  Oscar Nominations Golden Globe Nominations  Bafta Nominations  \\\n",
       "0          0.0                2.0                      6.0                0.0   \n",
       "1          0.0                6.0                      2.0                4.0   \n",
       "2          1.0                9.0                      6.0                9.0   \n",
       "3          0.0                5.0                      4.0                1.0   \n",
       "4          0.0                6.0                      1.0                9.0   \n",
       "..         ...                ...                      ...                ...   \n",
       "550        0.0                6.0                      4.0                6.0   \n",
       "551        0.0                5.0                      1.0                4.0   \n",
       "552        1.0                6.0                      4.0                7.0   \n",
       "553        0.0                5.0                      4.0                3.0   \n",
       "554        0.0               10.0                      4.0                6.0   \n",
       "\n",
       "     Won Directors  Won Actors  \n",
       "0              0.0         0.0  \n",
       "1              0.0         0.0  \n",
       "2              0.0         1.0  \n",
       "3              0.0         0.0  \n",
       "4              0.0         0.0  \n",
       "..             ...         ...  \n",
       "550            0.0         0.0  \n",
       "551            0.0         0.0  \n",
       "552            0.0         0.0  \n",
       "553            0.0         0.0  \n",
       "554            0.0         0.0  \n",
       "\n",
       "[555 rows x 25 columns]"
      ]
     },
     "execution_count": 80,
     "metadata": {},
     "output_type": "execute_result"
    }
   ],
   "source": [
    "oscar"
   ]
  },
  {
   "cell_type": "code",
   "execution_count": 81,
   "metadata": {
    "ExecuteTime": {
     "end_time": "2021-04-23T02:25:59.239585Z",
     "start_time": "2021-04-23T02:25:59.218643Z"
    },
    "scrolled": true
   },
   "outputs": [
    {
     "name": "stdout",
     "output_type": "stream",
     "text": [
      "<class 'pandas.core.frame.DataFrame'>\n",
      "RangeIndex: 555 entries, 0 to 554\n",
      "Data columns (total 25 columns):\n",
      " #   Column                    Non-Null Count  Dtype  \n",
      "---  ------                    --------------  -----  \n",
      " 0   Unnamed: 0                555 non-null    int64  \n",
      " 1   imdb_title_id             555 non-null    object \n",
      " 2   title                     555 non-null    object \n",
      " 3   title_pt                  555 non-null    object \n",
      " 4   year                      555 non-null    int64  \n",
      " 5   avg_vote                  555 non-null    float64\n",
      " 6   votes                     555 non-null    float64\n",
      " 7   metascore                 555 non-null    float64\n",
      " 8   runtime                   555 non-null    float64\n",
      " 9   genre                     555 non-null    object \n",
      " 10  director                  555 non-null    object \n",
      " 11  actors                    555 non-null    object \n",
      " 12  writer                    555 non-null    object \n",
      " 13  budget                    555 non-null    float64\n",
      " 14  usa_gross_income          555 non-null    float64\n",
      " 15  worlwide_gross_income     555 non-null    float64\n",
      " 16  description               555 non-null    object \n",
      " 17  win                       555 non-null    int64  \n",
      " 18  Won Golden Globe          555 non-null    float64\n",
      " 19  Won Bafta                 555 non-null    float64\n",
      " 20  Oscar Nominations         555 non-null    float64\n",
      " 21  Golden Globe Nominations  555 non-null    float64\n",
      " 22  Bafta Nominations         555 non-null    float64\n",
      " 23  Won Directors             555 non-null    float64\n",
      " 24  Won Actors                555 non-null    float64\n",
      "dtypes: float64(14), int64(3), object(8)\n",
      "memory usage: 108.5+ KB\n"
     ]
    }
   ],
   "source": [
    "oscar.info()"
   ]
  },
  {
   "cell_type": "code",
   "execution_count": 46,
   "metadata": {
    "ExecuteTime": {
     "end_time": "2021-04-23T02:20:57.108296Z",
     "start_time": "2021-04-23T02:20:56.877195Z"
    }
   },
   "outputs": [
    {
     "data": {
      "text/plain": [
       "<matplotlib.axes._subplots.AxesSubplot at 0x23a353a0c40>"
      ]
     },
     "execution_count": 46,
     "metadata": {},
     "output_type": "execute_result"
    },
    {
     "data": {
      "image/png": "[encoded data removed]",
      "text/plain": [
       "<Figure size 432x288 with 1 Axes>"
      ]
     },
     "metadata": {
      "needs_background": "light"
     },
     "output_type": "display_data"
    }
   ],
   "source": [
    "sns.scatterplot(x='budget',y='worlwide_gross_income', hue='win', data=oscar, palette='tab10')"
   ]
  },
  {
   "cell_type": "code",
   "execution_count": 47,
   "metadata": {
    "ExecuteTime": {
     "end_time": "2021-04-23T02:20:59.023440Z",
     "start_time": "2021-04-23T02:20:58.773290Z"
    }
   },
   "outputs": [
    {
     "data": {
      "text/plain": [
       "<matplotlib.axes._subplots.AxesSubplot at 0x23a35481e50>"
      ]
     },
     "execution_count": 47,
     "metadata": {},
     "output_type": "execute_result"
    },
    {
     "data": {
      "image/png": "[encoded data removed]",
      "text/plain": [
       "<Figure size 432x288 with 1 Axes>"
      ]
     },
     "metadata": {
      "needs_background": "light"
     },
     "output_type": "display_data"
    }
   ],
   "source": [
    "sns.scatterplot(x='avg_vote',y='votes', hue='win', data=oscar, palette='tab10')"
   ]
  },
  {
   "cell_type": "code",
   "execution_count": 48,
   "metadata": {
    "ExecuteTime": {
     "end_time": "2021-04-23T02:21:00.973470Z",
     "start_time": "2021-04-23T02:21:00.712414Z"
    },
    "scrolled": true
   },
   "outputs": [
    {
     "data": {
      "text/plain": [
       "<matplotlib.axes._subplots.AxesSubplot at 0x23a354deee0>"
      ]
     },
     "execution_count": 48,
     "metadata": {},
     "output_type": "execute_result"
    },
    {
     "data": {
      "image/png": "[encoded data removed]",
      "text/plain": [
       "<Figure size 432x288 with 1 Axes>"
      ]
     },
     "metadata": {
      "needs_background": "light"
     },
     "output_type": "display_data"
    }
   ],
   "source": [
    "sns.scatterplot(x='budget',y='metascore', hue='win', data=oscar, palette='tab10')"
   ]
  },
  {
   "cell_type": "code",
   "execution_count": 49,
   "metadata": {
    "ExecuteTime": {
     "end_time": "2021-04-23T02:21:02.876626Z",
     "start_time": "2021-04-23T02:21:02.621893Z"
    }
   },
   "outputs": [
    {
     "data": {
      "text/plain": [
       "<matplotlib.axes._subplots.AxesSubplot at 0x23a3553f760>"
      ]
     },
     "execution_count": 49,
     "metadata": {},
     "output_type": "execute_result"
    },
    {
     "data": {
      "image/png": "[encoded data removed]",
      "text/plain": [
       "<Figure size 432x288 with 1 Axes>"
      ]
     },
     "metadata": {
      "needs_background": "light"
     },
     "output_type": "display_data"
    }
   ],
   "source": [
    "sns.scatterplot(x='budget',y='win', hue='win', data=oscar, palette='tab10')"
   ]
  },
  {
   "cell_type": "code",
   "execution_count": 50,
   "metadata": {
    "ExecuteTime": {
     "end_time": "2021-04-23T02:21:04.761713Z",
     "start_time": "2021-04-23T02:21:04.749746Z"
    },
    "scrolled": true
   },
   "outputs": [
    {
     "data": {
      "text/plain": [
       "Index(['Unnamed: 0', 'imdb_title_id', 'title', 'title_pt', 'year', 'avg_vote',\n",
       "       'votes', 'metascore', 'runtime', 'genre', 'director', 'actors',\n",
       "       'writer', 'budget', 'usa_gross_income', 'worlwide_gross_income',\n",
       "       'description', 'win', 'Won Golden Globe', 'Won Bafta',\n",
       "       'Oscar Nominations', 'Golden Globe Nominations', 'Bafta Nominations',\n",
       "       'Won Directors', 'Won Actors'],\n",
       "      dtype='object')"
      ]
     },
     "execution_count": 50,
     "metadata": {},
     "output_type": "execute_result"
    }
   ],
   "source": [
    "oscar.keys()"
   ]
  },
  {
   "cell_type": "code",
   "execution_count": 199,
   "metadata": {
    "ExecuteTime": {
     "end_time": "2021-04-23T02:32:13.353070Z",
     "start_time": "2021-04-23T02:32:13.339071Z"
    }
   },
   "outputs": [
    {
     "data": {
      "text/plain": [
       "['year',\n",
       " 'avg_vote',\n",
       " 'votes',\n",
       " 'metascore',\n",
       " 'runtime',\n",
       " 'Won Golden Globe',\n",
       " 'Won Bafta',\n",
       " 'Oscar Nominations',\n",
       " 'Golden Globe Nominations',\n",
       " 'Bafta Nominations',\n",
       " 'Won Directors',\n",
       " 'Won Actors']"
      ]
     },
     "execution_count": 199,
     "metadata": {},
     "output_type": "execute_result"
    }
   ],
   "source": [
    "var = oscar.drop(['imdb_title_id', 'title', 'title_pt', 'genre', 'director', 'actors', 'writer','description', 'Unnamed: 0', 'win','budget', 'usa_gross_income', 'worlwide_gross_income'], axis=1)  \n",
    "var_list = list(var.columns)\n",
    "var_list"
   ]
  },
  {
   "cell_type": "code",
   "execution_count": 200,
   "metadata": {
    "ExecuteTime": {
     "end_time": "2021-04-23T02:32:15.264341Z",
     "start_time": "2021-04-23T02:32:15.250379Z"
    }
   },
   "outputs": [],
   "source": [
    "y = oscar.win\n",
    "X = var"
   ]
  },
  {
   "cell_type": "code",
   "execution_count": null,
   "metadata": {},
   "outputs": [],
   "source": []
  },
  {
   "cell_type": "code",
   "execution_count": 201,
   "metadata": {
    "ExecuteTime": {
     "end_time": "2021-04-23T02:32:17.252615Z",
     "start_time": "2021-04-23T02:32:17.229512Z"
    }
   },
   "outputs": [],
   "source": [
    "from sklearn.model_selection import train_test_split\n",
    "\n",
    "X_train, X_test, y_train, y_test = train_test_split(X, y, test_size = 0.20, random_state = 0)"
   ]
  },
  {
   "cell_type": "code",
   "execution_count": 202,
   "metadata": {
    "ExecuteTime": {
     "end_time": "2021-04-23T02:32:18.886384Z",
     "start_time": "2021-04-23T02:32:18.847130Z"
    }
   },
   "outputs": [],
   "source": [
    "X_train.to_csv('data/training_var.csv', index = False)\n",
    "X_test.to_csv('data/testing_var.csv', index = False)\n",
    "y_train.to_csv('data/training_labels.csv', index = False)\n",
    "y_test.to_csv('data/testing_labels.csv', index = False)"
   ]
  },
  {
   "cell_type": "code",
   "execution_count": 203,
   "metadata": {
    "ExecuteTime": {
     "end_time": "2021-04-23T02:32:20.499475Z",
     "start_time": "2021-04-23T02:32:20.486510Z"
    },
    "scrolled": true
   },
   "outputs": [
    {
     "name": "stdout",
     "output_type": "stream",
     "text": [
      "Training Variables Shape: (444, 12)\n",
      "Training Labels Shape: (444,)\n",
      "Testing Variables Shape: (111, 12)\n",
      "Testing Labels Shape: (111,)\n"
     ]
    }
   ],
   "source": [
    "print('Training Variables Shape:', X_train.shape)\n",
    "print('Training Labels Shape:', y_train.shape)\n",
    "print('Testing Variables Shape:', X_test.shape)\n",
    "print('Testing Labels Shape:', y_test.shape)"
   ]
  },
  {
   "cell_type": "markdown",
   "metadata": {},
   "source": [
    "# Logistic Regression"
   ]
  },
  {
   "cell_type": "code",
   "execution_count": 145,
   "metadata": {
    "ExecuteTime": {
     "end_time": "2021-04-23T02:29:34.349027Z",
     "start_time": "2021-04-23T02:29:34.336059Z"
    }
   },
   "outputs": [],
   "source": [
    "from sklearn.linear_model import LogisticRegression"
   ]
  },
  {
   "cell_type": "code",
   "execution_count": 146,
   "metadata": {
    "ExecuteTime": {
     "end_time": "2021-04-23T02:29:35.876721Z",
     "start_time": "2021-04-23T02:29:35.847800Z"
    }
   },
   "outputs": [
    {
     "data": {
      "text/plain": [
       "LogisticRegression(random_state=0)"
      ]
     },
     "execution_count": 146,
     "metadata": {},
     "output_type": "execute_result"
    }
   ],
   "source": [
    "classifier_lr = LogisticRegression(random_state=0,solver=\"lbfgs\")\n",
    "classifier_lr.fit(X_train, y_train)"
   ]
  },
  {
   "cell_type": "code",
   "execution_count": 147,
   "metadata": {
    "ExecuteTime": {
     "end_time": "2021-04-23T02:29:37.349198Z",
     "start_time": "2021-04-23T02:29:37.333490Z"
    }
   },
   "outputs": [],
   "source": [
    "y_pred_lr = classifier_lr.predict(X_test)"
   ]
  },
  {
   "cell_type": "code",
   "execution_count": 148,
   "metadata": {
    "ExecuteTime": {
     "end_time": "2021-04-23T02:29:38.793321Z",
     "start_time": "2021-04-23T02:29:38.780016Z"
    }
   },
   "outputs": [],
   "source": [
    "from sklearn.metrics import confusion_matrix\n",
    "import itertools\n",
    "\n",
    "def plot_confusion_matrix(cm, classes,\n",
    "                          normalize=False,\n",
    "                          title='Confusion matrix',\n",
    "                          cmap=plt.cm.Oranges):\n",
    "\n",
    "    if normalize:\n",
    "        cm = cm.astype('float') / cm.sum(axis=1)[:, np.newaxis]\n",
    "        print(\"Normalized confusion matrix\")\n",
    "    else:\n",
    "        print('Confusion matrix, without normalization')\n",
    "\n",
    "    print(cm)\n",
    "\n",
    "    plt.figure(figsize = (10, 10))\n",
    "    plt.imshow(cm, interpolation='nearest', cmap=cmap)\n",
    "    plt.title(title, size = 24)\n",
    "    plt.colorbar(aspect=4)\n",
    "    tick_marks = np.arange(len(classes))\n",
    "    plt.xticks(tick_marks, classes, rotation=45, size = 14)\n",
    "    plt.yticks(tick_marks, classes, size = 14)\n",
    "\n",
    "    fmt = '.2f' if normalize else 'd'\n",
    "    thresh = cm.max() / 2.\n",
    "    \n",
    "    for i, j in itertools.product(range(cm.shape[0]), range(cm.shape[1])):\n",
    "        plt.text(j, i, format(cm[i, j], fmt), fontsize = 20,\n",
    "                 horizontalalignment=\"center\",\n",
    "                 color=\"white\" if cm[i, j] > thresh else \"black\")\n",
    "        \n",
    "    plt.grid(None)\n",
    "    plt.tight_layout()\n",
    "    plt.ylabel('True label', size = 18)\n",
    "    plt.xlabel('Predicted label', size = 18)"
   ]
  },
  {
   "cell_type": "code",
   "execution_count": 149,
   "metadata": {
    "ExecuteTime": {
     "end_time": "2021-04-23T02:29:40.460575Z",
     "start_time": "2021-04-23T02:29:40.446613Z"
    }
   },
   "outputs": [],
   "source": [
    "from sklearn.metrics import confusion_matrix"
   ]
  },
  {
   "cell_type": "code",
   "execution_count": 150,
   "metadata": {
    "ExecuteTime": {
     "end_time": "2021-04-23T02:29:42.002640Z",
     "start_time": "2021-04-23T02:29:41.766145Z"
    }
   },
   "outputs": [
    {
     "name": "stdout",
     "output_type": "stream",
     "text": [
      "Confusion matrix, without normalization\n",
      "[[95  0]\n",
      " [15  1]]\n"
     ]
    },
    {
     "data": {
      "image/png": "[encoded data removed]",
      "text/plain": [
       "<Figure size 720x720 with 2 Axes>"
      ]
     },
     "metadata": {
      "needs_background": "light"
     },
     "output_type": "display_data"
    }
   ],
   "source": [
    "cm_lg = confusion_matrix(y_test, y_pred_lr)\n",
    "plot_confusion_matrix(cm_lg, classes = ['Lost', 'Won'],\n",
    "                      title = 'Oscar Confusion Matrix',cmap=plt.cm.Blues)"
   ]
  },
  {
   "cell_type": "markdown",
   "metadata": {},
   "source": [
    "95 correct predictions and 16 incorrect predictions."
   ]
  },
  {
   "cell_type": "code",
   "execution_count": 151,
   "metadata": {
    "ExecuteTime": {
     "end_time": "2021-04-23T02:29:43.438606Z",
     "start_time": "2021-04-23T02:29:43.413448Z"
    }
   },
   "outputs": [],
   "source": [
    "from sklearn import metrics"
   ]
  },
  {
   "cell_type": "code",
   "execution_count": 152,
   "metadata": {
    "ExecuteTime": {
     "end_time": "2021-04-23T02:29:45.010039Z",
     "start_time": "2021-04-23T02:29:45.000065Z"
    }
   },
   "outputs": [
    {
     "name": "stdout",
     "output_type": "stream",
     "text": [
      "Accuracy 0.8648648648648649\n"
     ]
    }
   ],
   "source": [
    "print(\"Accuracy\", metrics.accuracy_score(y_test, y_pred_lr))"
   ]
  },
  {
   "cell_type": "code",
   "execution_count": 153,
   "metadata": {
    "ExecuteTime": {
     "end_time": "2021-04-23T02:29:46.383878Z",
     "start_time": "2021-04-23T02:29:46.353910Z"
    }
   },
   "outputs": [],
   "source": [
    "train_probs_lr = classifier_lr.predict_proba(X_train)[:, 1]\n",
    "probs_lr = classifier_lr.predict_proba(X_test)[:, 1]\n",
    "\n",
    "train_predictions_lr = classifier_lr.predict(X_train)\n",
    "predictions_lr = classifier_lr.predict(X_test)"
   ]
  },
  {
   "cell_type": "code",
   "execution_count": 154,
   "metadata": {
    "ExecuteTime": {
     "end_time": "2021-04-23T02:29:47.729283Z",
     "start_time": "2021-04-23T02:29:47.713686Z"
    }
   },
   "outputs": [],
   "source": [
    "from sklearn.metrics import precision_score, recall_score, roc_auc_score, roc_curve"
   ]
  },
  {
   "cell_type": "code",
   "execution_count": 155,
   "metadata": {
    "ExecuteTime": {
     "end_time": "2021-04-23T02:29:49.123973Z",
     "start_time": "2021-04-23T02:29:49.099040Z"
    }
   },
   "outputs": [
    {
     "data": {
      "text/plain": [
       "0.6710526315789475"
      ]
     },
     "execution_count": 155,
     "metadata": {},
     "output_type": "execute_result"
    }
   ],
   "source": [
    "roc_auc_score(y_train, train_probs_lr)\n",
    "roc_auc_score(y_test, probs_lr)"
   ]
  },
  {
   "cell_type": "code",
   "execution_count": 156,
   "metadata": {
    "ExecuteTime": {
     "end_time": "2021-04-23T02:29:51.468417Z",
     "start_time": "2021-04-23T02:29:51.458443Z"
    }
   },
   "outputs": [
    {
     "data": {
      "text/plain": [
       "0.5"
      ]
     },
     "execution_count": 156,
     "metadata": {},
     "output_type": "execute_result"
    }
   ],
   "source": [
    "roc_auc_score(y_test, [1 for _ in range(len(y_test))])"
   ]
  },
  {
   "cell_type": "code",
   "execution_count": 157,
   "metadata": {
    "ExecuteTime": {
     "end_time": "2021-04-23T02:29:52.979851Z",
     "start_time": "2021-04-23T02:29:52.950757Z"
    }
   },
   "outputs": [],
   "source": [
    "def evaluate_model(predictions, probs, train_predictions, train_probs):\n",
    "    \n",
    "    baseline = {}\n",
    "    \n",
    "    baseline['recall'] = recall_score(y_test, [1 for _ in range(len(y_test))])\n",
    "    baseline['precision'] = precision_score(y_test, [1 for _ in range(len(y_test))])\n",
    "    baseline['roc'] = 0.5\n",
    "    \n",
    "    results = {}\n",
    "    \n",
    "    results['recall'] = recall_score(y_test, predictions)\n",
    "    results['precision'] = precision_score(y_test, predictions)\n",
    "    results['roc'] = roc_auc_score(y_test, probs)\n",
    "    \n",
    "    train_results = {}\n",
    "    train_results['recall'] = recall_score(y_train, train_predictions)\n",
    "    train_results['precision'] = precision_score(y_train, train_predictions)\n",
    "    train_results['roc'] = roc_auc_score(y_train, train_probs)\n",
    "    \n",
    "    for metric in ['recall', 'precision', 'roc']:\n",
    "        print(f'{metric.capitalize()} Baseline: {round(baseline[metric], 2)} Test: {round(results[metric], 2)} Train: {round(train_results[metric], 2)}')\n",
    "    \n",
    "    # false positive rates and true positive rates\n",
    "    base_fpr, base_tpr, _ = roc_curve(y_test, [1 for _ in range(len(y_test))])\n",
    "    model_fpr, model_tpr, _ = roc_curve(y_test, probs)\n",
    "\n",
    "    plt.figure(figsize = (8, 6))\n",
    "    plt.rcParams['font.size'] = 16\n",
    "    \n",
    "    # Plot both curves\n",
    "    plt.plot(base_fpr, base_tpr, 'g', label = 'baseline')\n",
    "    plt.plot(model_fpr, model_tpr, 'r', label = 'model')\n",
    "    plt.legend();\n",
    "    plt.xlabel('False Positive Rate'); plt.ylabel('True Positive Rate'); plt.title('ROC Curves');"
   ]
  },
  {
   "cell_type": "code",
   "execution_count": 129,
   "metadata": {
    "ExecuteTime": {
     "end_time": "2021-04-23T02:27:45.613288Z",
     "start_time": "2021-04-23T02:27:45.355333Z"
    }
   },
   "outputs": [
    {
     "name": "stdout",
     "output_type": "stream",
     "text": [
      "Recall Baseline: 1.0 Test: 0.06 Train: 0.08\n",
      "Precision Baseline: 0.14 Test: 1.0 Train: 0.43\n",
      "Roc Baseline: 0.5 Test: 0.67 Train: 0.68\n"
     ]
    },
    {
     "data": {
      "image/png": "[encoded data removed]",
      "text/plain": [
       "<Figure size 576x432 with 1 Axes>"
      ]
     },
     "metadata": {
      "needs_background": "light"
     },
     "output_type": "display_data"
    }
   ],
   "source": [
    "evaluate_model(predictions_lr, probs_lr, train_predictions_lr, train_probs_lr)"
   ]
  },
  {
   "cell_type": "code",
   "execution_count": 101,
   "metadata": {
    "ExecuteTime": {
     "end_time": "2021-04-23T02:26:36.666365Z",
     "start_time": "2021-04-23T02:26:36.654398Z"
    }
   },
   "outputs": [],
   "source": [
    "train_lr = oscar[(oscar.year>=1990)&(oscar.year<=2017)]"
   ]
  },
  {
   "cell_type": "code",
   "execution_count": 102,
   "metadata": {
    "ExecuteTime": {
     "end_time": "2021-04-23T02:26:38.303878Z",
     "start_time": "2021-04-23T02:26:38.293872Z"
    }
   },
   "outputs": [],
   "source": [
    "test_lr = oscar[(oscar.year==2018)]"
   ]
  },
  {
   "cell_type": "code",
   "execution_count": 103,
   "metadata": {
    "ExecuteTime": {
     "end_time": "2021-04-23T02:26:39.785897Z",
     "start_time": "2021-04-23T02:26:39.773931Z"
    }
   },
   "outputs": [],
   "source": [
    "target_lr = train_lr['win'].values"
   ]
  },
  {
   "cell_type": "code",
   "execution_count": 104,
   "metadata": {
    "ExecuteTime": {
     "end_time": "2021-04-23T02:26:41.535686Z",
     "start_time": "2021-04-23T02:26:41.509756Z"
    }
   },
   "outputs": [
    {
     "data": {
      "text/plain": [
       "array([[2.01700e+03, 7.20000e+00, 1.30017e+05, ..., 0.00000e+00,\n",
       "        0.00000e+00, 0.00000e+00],\n",
       "       [2.01700e+03, 7.50000e+00, 1.06231e+05, ..., 4.00000e+00,\n",
       "        0.00000e+00, 0.00000e+00],\n",
       "       [2.01700e+03, 8.20000e+00, 4.11693e+05, ..., 9.00000e+00,\n",
       "        0.00000e+00, 1.00000e+00],\n",
       "       ...,\n",
       "       [1.99000e+03, 8.00000e+00, 2.35155e+05, ..., 9.00000e+00,\n",
       "        1.00000e+00, 0.00000e+00],\n",
       "       [1.99000e+03, 8.70000e+00, 9.91505e+05, ..., 7.00000e+00,\n",
       "        0.00000e+00, 0.00000e+00],\n",
       "       [1.99000e+03, 7.00000e+00, 1.92449e+05, ..., 4.00000e+00,\n",
       "        0.00000e+00, 0.00000e+00]])"
      ]
     },
     "execution_count": 104,
     "metadata": {},
     "output_type": "execute_result"
    }
   ],
   "source": [
    "var_lr = train_lr[var_list].values\n",
    "var_lr"
   ]
  },
  {
   "cell_type": "code",
   "execution_count": 105,
   "metadata": {
    "ExecuteTime": {
     "end_time": "2021-04-23T02:26:43.208821Z",
     "start_time": "2021-04-23T02:26:43.180898Z"
    }
   },
   "outputs": [
    {
     "data": {
      "text/plain": [
       "LogisticRegression(random_state=0)"
      ]
     },
     "execution_count": 105,
     "metadata": {},
     "output_type": "execute_result"
    }
   ],
   "source": [
    "classifier_lr.fit(var_lr, target_lr)"
   ]
  },
  {
   "cell_type": "code",
   "execution_count": 106,
   "metadata": {
    "ExecuteTime": {
     "end_time": "2021-04-23T02:26:44.814520Z",
     "start_time": "2021-04-23T02:26:44.803551Z"
    }
   },
   "outputs": [],
   "source": [
    "test_var_lr = test_lr[var_list].values\n",
    "pred_LR = classifier_lr.predict_proba(test_var_lr)[:,1]"
   ]
  },
  {
   "cell_type": "code",
   "execution_count": 107,
   "metadata": {
    "ExecuteTime": {
     "end_time": "2021-04-23T02:26:46.436354Z",
     "start_time": "2021-04-23T02:26:46.425382Z"
    }
   },
   "outputs": [],
   "source": [
    "movie_name = np.array(test_lr['title_pt'])\n",
    "year = np.array(test_lr['year'])\n",
    "oscar = np.array(test_lr['win'])"
   ]
  },
  {
   "cell_type": "code",
   "execution_count": 108,
   "metadata": {
    "ExecuteTime": {
     "end_time": "2021-04-23T02:26:47.921326Z",
     "start_time": "2021-04-23T02:26:47.910358Z"
    }
   },
   "outputs": [],
   "source": [
    "prediction_2019 = pd.DataFrame(pred_LR.round(2), movie_name,columns =[\"Probability\"] )\n",
    "prediction_2019[\"year\"] = year\n",
    "prediction_2019[\"Actually Oscar\"] = oscar"
   ]
  },
  {
   "cell_type": "code",
   "execution_count": 109,
   "metadata": {
    "ExecuteTime": {
     "end_time": "2021-04-23T02:26:49.334506Z",
     "start_time": "2021-04-23T02:26:49.307576Z"
    },
    "scrolled": true
   },
   "outputs": [
    {
     "data": {
      "text/html": [
       "<div>\n",
       "<style scoped>\n",
       "    .dataframe tbody tr th:only-of-type {\n",
       "        vertical-align: middle;\n",
       "    }\n",
       "\n",
       "    .dataframe tbody tr th {\n",
       "        vertical-align: top;\n",
       "    }\n",
       "\n",
       "    .dataframe thead th {\n",
       "        text-align: right;\n",
       "    }\n",
       "</style>\n",
       "<table border=\"1\" class=\"dataframe\">\n",
       "  <thead>\n",
       "    <tr style=\"text-align: right;\">\n",
       "      <th></th>\n",
       "      <th>Probability</th>\n",
       "      <th>year</th>\n",
       "      <th>Actually Oscar</th>\n",
       "    </tr>\n",
       "  </thead>\n",
       "  <tbody>\n",
       "    <tr>\n",
       "      <th>Infiltrado na Klan</th>\n",
       "      <td>0.17</td>\n",
       "      <td>2018</td>\n",
       "      <td>0</td>\n",
       "    </tr>\n",
       "    <tr>\n",
       "      <th>Pantera Negra</th>\n",
       "      <td>0.10</td>\n",
       "      <td>2018</td>\n",
       "      <td>0</td>\n",
       "    </tr>\n",
       "    <tr>\n",
       "      <th>Bohemian Rhapsody</th>\n",
       "      <td>0.13</td>\n",
       "      <td>2018</td>\n",
       "      <td>0</td>\n",
       "    </tr>\n",
       "    <tr>\n",
       "      <th>A Favorita</th>\n",
       "      <td>0.09</td>\n",
       "      <td>2018</td>\n",
       "      <td>0</td>\n",
       "    </tr>\n",
       "    <tr>\n",
       "      <th>Green Book: O Guia</th>\n",
       "      <td>0.12</td>\n",
       "      <td>2018</td>\n",
       "      <td>1</td>\n",
       "    </tr>\n",
       "    <tr>\n",
       "      <th>Nasce Uma Estrela</th>\n",
       "      <td>0.12</td>\n",
       "      <td>2018</td>\n",
       "      <td>0</td>\n",
       "    </tr>\n",
       "    <tr>\n",
       "      <th>Vice</th>\n",
       "      <td>0.09</td>\n",
       "      <td>2018</td>\n",
       "      <td>0</td>\n",
       "    </tr>\n",
       "  </tbody>\n",
       "</table>\n",
       "</div>"
      ],
      "text/plain": [
       "                    Probability  year  Actually Oscar\n",
       "Infiltrado na Klan         0.17  2018               0\n",
       "Pantera Negra              0.10  2018               0\n",
       "Bohemian Rhapsody          0.13  2018               0\n",
       "A Favorita                 0.09  2018               0\n",
       "Green Book: O Guia         0.12  2018               1\n",
       " Nasce Uma Estrela         0.12  2018               0\n",
       "Vice                       0.09  2018               0"
      ]
     },
     "execution_count": 109,
     "metadata": {},
     "output_type": "execute_result"
    }
   ],
   "source": [
    "prediction_2019"
   ]
  },
  {
   "cell_type": "markdown",
   "metadata": {},
   "source": [
    "WRONG!!!"
   ]
  },
  {
   "cell_type": "code",
   "execution_count": null,
   "metadata": {},
   "outputs": [],
   "source": []
  },
  {
   "cell_type": "code",
   "execution_count": 130,
   "metadata": {
    "ExecuteTime": {
     "end_time": "2021-04-23T02:27:50.596599Z",
     "start_time": "2021-04-23T02:27:50.586623Z"
    }
   },
   "outputs": [],
   "source": [
    "train_lr = oscar[(oscar.year>=1990)&(oscar.year<=2018)]"
   ]
  },
  {
   "cell_type": "code",
   "execution_count": 131,
   "metadata": {
    "ExecuteTime": {
     "end_time": "2021-04-23T02:27:52.284947Z",
     "start_time": "2021-04-23T02:27:52.271982Z"
    }
   },
   "outputs": [],
   "source": [
    "test_lr = oscar[(oscar.year==2019)]"
   ]
  },
  {
   "cell_type": "code",
   "execution_count": 132,
   "metadata": {
    "ExecuteTime": {
     "end_time": "2021-04-23T02:27:53.883594Z",
     "start_time": "2021-04-23T02:27:53.864559Z"
    }
   },
   "outputs": [
    {
     "data": {
      "text/plain": [
       "array([0, 0, 0, 0, 0, 1, 0, 0, 0, 0, 0, 0, 0, 1, 0, 0, 0, 0, 0, 0, 0, 0,\n",
       "       0, 1, 0, 0, 0, 0, 0, 0, 1, 0, 0, 0, 0, 0, 0, 0, 0, 0, 1, 0, 0, 0,\n",
       "       0, 0, 0, 0, 0, 1, 0, 0, 0, 0, 0, 0, 0, 0, 0, 1, 0, 0, 0, 0, 1, 0,\n",
       "       0, 0, 0, 0, 0, 0, 0, 0, 0, 0, 0, 0, 0, 0, 0, 0, 0, 0, 1, 0, 0, 0,\n",
       "       1, 0, 1, 0, 0, 0, 0, 0, 0, 0, 0, 1, 0, 0, 1, 0, 1, 0, 0, 0, 0, 0,\n",
       "       1, 0, 0, 0, 1, 0, 0, 0, 0, 0, 0, 0, 1, 0, 0, 0, 1, 0, 0, 0, 1, 0,\n",
       "       0, 0, 0, 0, 1, 0, 0, 0, 1, 0, 0, 0, 0, 0, 0, 1, 0, 0, 0, 1, 0, 0,\n",
       "       0, 1, 0, 0, 0, 0, 0, 0, 1, 0, 0, 0, 0, 0, 1, 0, 0, 1, 0, 0, 0, 0,\n",
       "       0, 0, 1, 0, 0], dtype=int64)"
      ]
     },
     "execution_count": 132,
     "metadata": {},
     "output_type": "execute_result"
    }
   ],
   "source": [
    "target_lr = train_lr['win'].values\n",
    "target_lr"
   ]
  },
  {
   "cell_type": "code",
   "execution_count": 133,
   "metadata": {
    "ExecuteTime": {
     "end_time": "2021-04-23T02:27:55.334309Z",
     "start_time": "2021-04-23T02:27:55.310598Z"
    }
   },
   "outputs": [
    {
     "data": {
      "text/plain": [
       "array([[2.01700e+03, 7.20000e+00, 1.30017e+05, ..., 0.00000e+00,\n",
       "        0.00000e+00, 0.00000e+00],\n",
       "       [2.01700e+03, 7.50000e+00, 1.06231e+05, ..., 4.00000e+00,\n",
       "        0.00000e+00, 0.00000e+00],\n",
       "       [2.01700e+03, 8.20000e+00, 4.11693e+05, ..., 9.00000e+00,\n",
       "        0.00000e+00, 1.00000e+00],\n",
       "       ...,\n",
       "       [2.01800e+03, 8.20000e+00, 3.41975e+05, ..., 4.00000e+00,\n",
       "        0.00000e+00, 0.00000e+00],\n",
       "       [2.01800e+03, 7.70000e+00, 3.18520e+05, ..., 7.00000e+00,\n",
       "        0.00000e+00, 0.00000e+00],\n",
       "       [2.01800e+03, 7.20000e+00, 1.13257e+05, ..., 6.00000e+00,\n",
       "        0.00000e+00, 0.00000e+00]])"
      ]
     },
     "execution_count": 133,
     "metadata": {},
     "output_type": "execute_result"
    }
   ],
   "source": [
    "var_lr = train_lr[var_list].values\n",
    "var_lr"
   ]
  },
  {
   "cell_type": "code",
   "execution_count": 134,
   "metadata": {
    "ExecuteTime": {
     "end_time": "2021-04-23T02:27:56.901047Z",
     "start_time": "2021-04-23T02:27:56.876622Z"
    }
   },
   "outputs": [
    {
     "data": {
      "text/plain": [
       "LogisticRegression(random_state=0)"
      ]
     },
     "execution_count": 134,
     "metadata": {},
     "output_type": "execute_result"
    }
   ],
   "source": [
    "classifier_lr.fit(var_lr, target_lr)"
   ]
  },
  {
   "cell_type": "code",
   "execution_count": 135,
   "metadata": {
    "ExecuteTime": {
     "end_time": "2021-04-23T02:27:58.238160Z",
     "start_time": "2021-04-23T02:27:58.226193Z"
    }
   },
   "outputs": [],
   "source": [
    "test_var_lr = test_lr[var_list].values\n",
    "pred_LR = classifier_lr.predict_proba(test_var_lr)[:,1]"
   ]
  },
  {
   "cell_type": "code",
   "execution_count": 136,
   "metadata": {
    "ExecuteTime": {
     "end_time": "2021-04-23T02:27:59.600467Z",
     "start_time": "2021-04-23T02:27:59.588433Z"
    }
   },
   "outputs": [],
   "source": [
    "movie_name = np.array(test_lr['title_pt'])\n",
    "year = np.array(test_lr['year'])\n",
    "oscar = np.array(test_lr['win'])"
   ]
  },
  {
   "cell_type": "code",
   "execution_count": 137,
   "metadata": {
    "ExecuteTime": {
     "end_time": "2021-04-23T02:28:00.988110Z",
     "start_time": "2021-04-23T02:28:00.976144Z"
    }
   },
   "outputs": [],
   "source": [
    "prediction_2020 = pd.DataFrame(pred_LR.round(2), movie_name,columns =[\"Probability\"] )\n",
    "prediction_2020[\"year\"] = year\n",
    "prediction_2020[\"Actually Oscar\"] = oscar"
   ]
  },
  {
   "cell_type": "code",
   "execution_count": 138,
   "metadata": {
    "ExecuteTime": {
     "end_time": "2021-04-23T02:28:02.262168Z",
     "start_time": "2021-04-23T02:28:02.246490Z"
    }
   },
   "outputs": [
    {
     "data": {
      "text/html": [
       "<div>\n",
       "<style scoped>\n",
       "    .dataframe tbody tr th:only-of-type {\n",
       "        vertical-align: middle;\n",
       "    }\n",
       "\n",
       "    .dataframe tbody tr th {\n",
       "        vertical-align: top;\n",
       "    }\n",
       "\n",
       "    .dataframe thead th {\n",
       "        text-align: right;\n",
       "    }\n",
       "</style>\n",
       "<table border=\"1\" class=\"dataframe\">\n",
       "  <thead>\n",
       "    <tr style=\"text-align: right;\">\n",
       "      <th></th>\n",
       "      <th>Probability</th>\n",
       "      <th>year</th>\n",
       "      <th>Actually Oscar</th>\n",
       "    </tr>\n",
       "  </thead>\n",
       "  <tbody>\n",
       "    <tr>\n",
       "      <th>Ford v. Ferrari</th>\n",
       "      <td>0.13</td>\n",
       "      <td>2019</td>\n",
       "      <td>0</td>\n",
       "    </tr>\n",
       "    <tr>\n",
       "      <th>O Irlandes</th>\n",
       "      <td>0.38</td>\n",
       "      <td>2019</td>\n",
       "      <td>0</td>\n",
       "    </tr>\n",
       "    <tr>\n",
       "      <th>Jojo Rabbit</th>\n",
       "      <td>0.06</td>\n",
       "      <td>2019</td>\n",
       "      <td>0</td>\n",
       "    </tr>\n",
       "    <tr>\n",
       "      <th>Coringa</th>\n",
       "      <td>0.19</td>\n",
       "      <td>2019</td>\n",
       "      <td>0</td>\n",
       "    </tr>\n",
       "    <tr>\n",
       "      <th>Adoraveis Mulheres</th>\n",
       "      <td>0.10</td>\n",
       "      <td>2019</td>\n",
       "      <td>0</td>\n",
       "    </tr>\n",
       "    <tr>\n",
       "      <th>História de um Casamento</th>\n",
       "      <td>0.12</td>\n",
       "      <td>2019</td>\n",
       "      <td>0</td>\n",
       "    </tr>\n",
       "    <tr>\n",
       "      <th>1917</th>\n",
       "      <td>0.11</td>\n",
       "      <td>2019</td>\n",
       "      <td>0</td>\n",
       "    </tr>\n",
       "    <tr>\n",
       "      <th>Era uma vez em Hollywood</th>\n",
       "      <td>0.24</td>\n",
       "      <td>2019</td>\n",
       "      <td>0</td>\n",
       "    </tr>\n",
       "    <tr>\n",
       "      <th>Parasita</th>\n",
       "      <td>0.13</td>\n",
       "      <td>2019</td>\n",
       "      <td>1</td>\n",
       "    </tr>\n",
       "  </tbody>\n",
       "</table>\n",
       "</div>"
      ],
      "text/plain": [
       "                          Probability  year  Actually Oscar\n",
       "Ford v. Ferrari                  0.13  2019               0\n",
       "O Irlandes                       0.38  2019               0\n",
       "Jojo Rabbit                      0.06  2019               0\n",
       "Coringa                          0.19  2019               0\n",
       "Adoraveis Mulheres               0.10  2019               0\n",
       "História de um Casamento         0.12  2019               0\n",
       "1917                             0.11  2019               0\n",
       "Era uma vez em Hollywood         0.24  2019               0\n",
       "Parasita                         0.13  2019               1"
      ]
     },
     "execution_count": 138,
     "metadata": {},
     "output_type": "execute_result"
    }
   ],
   "source": [
    "prediction_2020"
   ]
  },
  {
   "cell_type": "markdown",
   "metadata": {},
   "source": [
    "WRONG!!!"
   ]
  },
  {
   "cell_type": "code",
   "execution_count": null,
   "metadata": {},
   "outputs": [],
   "source": []
  },
  {
   "cell_type": "code",
   "execution_count": null,
   "metadata": {},
   "outputs": [],
   "source": []
  },
  {
   "cell_type": "code",
   "execution_count": 158,
   "metadata": {
    "ExecuteTime": {
     "end_time": "2021-04-23T02:30:01.485099Z",
     "start_time": "2021-04-23T02:30:01.467145Z"
    }
   },
   "outputs": [],
   "source": [
    "train_lr = oscar[(oscar.year>=1990)&(oscar.year<=2019)]"
   ]
  },
  {
   "cell_type": "code",
   "execution_count": 159,
   "metadata": {
    "ExecuteTime": {
     "end_time": "2021-04-23T02:30:06.413693Z",
     "start_time": "2021-04-23T02:30:06.407750Z"
    }
   },
   "outputs": [],
   "source": [
    "test_lr = oscar[(oscar.year==2020)]"
   ]
  },
  {
   "cell_type": "code",
   "execution_count": 160,
   "metadata": {
    "ExecuteTime": {
     "end_time": "2021-04-23T02:30:07.863032Z",
     "start_time": "2021-04-23T02:30:07.849030Z"
    }
   },
   "outputs": [
    {
     "data": {
      "text/plain": [
       "array([0, 0, 0, 0, 0, 1, 0, 0, 0, 0, 0, 0, 0, 1, 0, 0, 0, 0, 0, 0, 0, 0,\n",
       "       0, 1, 0, 0, 0, 0, 0, 0, 1, 0, 0, 0, 0, 0, 0, 0, 0, 0, 1, 0, 0, 0,\n",
       "       0, 0, 0, 0, 0, 1, 0, 0, 0, 0, 0, 0, 0, 0, 0, 1, 0, 0, 0, 0, 1, 0,\n",
       "       0, 0, 0, 0, 0, 0, 0, 0, 0, 0, 0, 0, 0, 0, 0, 0, 0, 0, 1, 0, 0, 0,\n",
       "       1, 0, 1, 0, 0, 0, 0, 0, 0, 0, 0, 1, 0, 0, 1, 0, 1, 0, 0, 0, 0, 0,\n",
       "       1, 0, 0, 0, 1, 0, 0, 0, 0, 0, 0, 0, 1, 0, 0, 0, 1, 0, 0, 0, 1, 0,\n",
       "       0, 0, 0, 0, 1, 0, 0, 0, 1, 0, 0, 0, 0, 0, 0, 1, 0, 0, 0, 1, 0, 0,\n",
       "       0, 1, 0, 0, 0, 0, 0, 0, 1, 0, 0, 0, 0, 0, 1, 0, 0, 1, 0, 0, 0, 0,\n",
       "       0, 0, 1, 0, 0, 0, 0, 0, 0, 0, 0, 0, 0, 1], dtype=int64)"
      ]
     },
     "execution_count": 160,
     "metadata": {},
     "output_type": "execute_result"
    }
   ],
   "source": [
    "target_lr = train_lr['win'].values\n",
    "target_lr"
   ]
  },
  {
   "cell_type": "code",
   "execution_count": 161,
   "metadata": {
    "ExecuteTime": {
     "end_time": "2021-04-23T02:30:09.244013Z",
     "start_time": "2021-04-23T02:30:09.232043Z"
    }
   },
   "outputs": [
    {
     "data": {
      "text/plain": [
       "array([[2.01700e+03, 7.20000e+00, 1.30017e+05, ..., 0.00000e+00,\n",
       "        0.00000e+00, 0.00000e+00],\n",
       "       [2.01700e+03, 7.50000e+00, 1.06231e+05, ..., 4.00000e+00,\n",
       "        0.00000e+00, 0.00000e+00],\n",
       "       [2.01700e+03, 8.20000e+00, 4.11693e+05, ..., 9.00000e+00,\n",
       "        0.00000e+00, 1.00000e+00],\n",
       "       ...,\n",
       "       [2.01900e+03, 8.30000e+00, 3.62897e+05, ..., 9.00000e+00,\n",
       "        0.00000e+00, 0.00000e+00],\n",
       "       [2.01900e+03, 7.60000e+00, 5.07214e+05, ..., 1.00000e+01,\n",
       "        0.00000e+00, 0.00000e+00],\n",
       "       [2.01900e+03, 8.60000e+00, 4.70931e+05, ..., 4.00000e+00,\n",
       "        1.00000e+00, 0.00000e+00]])"
      ]
     },
     "execution_count": 161,
     "metadata": {},
     "output_type": "execute_result"
    }
   ],
   "source": [
    "var_lr = train_lr[var_list].values\n",
    "var_lr"
   ]
  },
  {
   "cell_type": "code",
   "execution_count": 162,
   "metadata": {
    "ExecuteTime": {
     "end_time": "2021-04-23T02:30:10.722499Z",
     "start_time": "2021-04-23T02:30:10.695448Z"
    }
   },
   "outputs": [
    {
     "data": {
      "text/plain": [
       "LogisticRegression(random_state=0)"
      ]
     },
     "execution_count": 162,
     "metadata": {},
     "output_type": "execute_result"
    }
   ],
   "source": [
    "classifier_lr.fit(var_lr, target_lr)"
   ]
  },
  {
   "cell_type": "code",
   "execution_count": 163,
   "metadata": {
    "ExecuteTime": {
     "end_time": "2021-04-23T02:30:12.143671Z",
     "start_time": "2021-04-23T02:30:12.131852Z"
    }
   },
   "outputs": [],
   "source": [
    "test_var_lr = test_lr[var_list].values\n",
    "pred_LR = classifier_lr.predict_proba(test_var_lr)[:,1]"
   ]
  },
  {
   "cell_type": "code",
   "execution_count": 164,
   "metadata": {
    "ExecuteTime": {
     "end_time": "2021-04-23T02:30:13.549901Z",
     "start_time": "2021-04-23T02:30:13.537675Z"
    }
   },
   "outputs": [],
   "source": [
    "movie_name = np.array(test_lr['title_pt'])\n",
    "year = np.array(test_lr['year'])\n",
    "oscar = np.array(test_lr['win'])"
   ]
  },
  {
   "cell_type": "code",
   "execution_count": 165,
   "metadata": {
    "ExecuteTime": {
     "end_time": "2021-04-23T02:30:14.743047Z",
     "start_time": "2021-04-23T02:30:14.731519Z"
    }
   },
   "outputs": [],
   "source": [
    "prediction_2021 = pd.DataFrame(pred_LR.round(2), movie_name,columns =[\"Probability\"] )\n",
    "prediction_2021[\"year\"] = year\n",
    "prediction_2021[\"Actually Oscar\"] = oscar"
   ]
  },
  {
   "cell_type": "code",
   "execution_count": 166,
   "metadata": {
    "ExecuteTime": {
     "end_time": "2021-04-23T02:30:16.095014Z",
     "start_time": "2021-04-23T02:30:16.072078Z"
    }
   },
   "outputs": [
    {
     "data": {
      "text/html": [
       "<div>\n",
       "<style scoped>\n",
       "    .dataframe tbody tr th:only-of-type {\n",
       "        vertical-align: middle;\n",
       "    }\n",
       "\n",
       "    .dataframe tbody tr th {\n",
       "        vertical-align: top;\n",
       "    }\n",
       "\n",
       "    .dataframe thead th {\n",
       "        text-align: right;\n",
       "    }\n",
       "</style>\n",
       "<table border=\"1\" class=\"dataframe\">\n",
       "  <thead>\n",
       "    <tr style=\"text-align: right;\">\n",
       "      <th></th>\n",
       "      <th>Probability</th>\n",
       "      <th>year</th>\n",
       "      <th>Actually Oscar</th>\n",
       "    </tr>\n",
       "  </thead>\n",
       "  <tbody>\n",
       "    <tr>\n",
       "      <th>Minari</th>\n",
       "      <td>0.07</td>\n",
       "      <td>2020</td>\n",
       "      <td>0</td>\n",
       "    </tr>\n",
       "    <tr>\n",
       "      <th>Bela Vingança</th>\n",
       "      <td>0.07</td>\n",
       "      <td>2020</td>\n",
       "      <td>0</td>\n",
       "    </tr>\n",
       "    <tr>\n",
       "      <th>O Som do Silêncio</th>\n",
       "      <td>0.07</td>\n",
       "      <td>2020</td>\n",
       "      <td>0</td>\n",
       "    </tr>\n",
       "    <tr>\n",
       "      <th>Meu Pai</th>\n",
       "      <td>0.07</td>\n",
       "      <td>2020</td>\n",
       "      <td>0</td>\n",
       "    </tr>\n",
       "    <tr>\n",
       "      <th>Judas e o Messias Negro</th>\n",
       "      <td>0.08</td>\n",
       "      <td>2020</td>\n",
       "      <td>0</td>\n",
       "    </tr>\n",
       "    <tr>\n",
       "      <th>Nomadland</th>\n",
       "      <td>0.08</td>\n",
       "      <td>2020</td>\n",
       "      <td>0</td>\n",
       "    </tr>\n",
       "    <tr>\n",
       "      <th>Os 7 de Chicago</th>\n",
       "      <td>0.09</td>\n",
       "      <td>2020</td>\n",
       "      <td>0</td>\n",
       "    </tr>\n",
       "    <tr>\n",
       "      <th>Mank</th>\n",
       "      <td>0.08</td>\n",
       "      <td>2020</td>\n",
       "      <td>0</td>\n",
       "    </tr>\n",
       "  </tbody>\n",
       "</table>\n",
       "</div>"
      ],
      "text/plain": [
       "                         Probability  year  Actually Oscar\n",
       "Minari                          0.07  2020               0\n",
       "Bela Vingança                   0.07  2020               0\n",
       "O Som do Silêncio               0.07  2020               0\n",
       "Meu Pai                         0.07  2020               0\n",
       "Judas e o Messias Negro         0.08  2020               0\n",
       "Nomadland                       0.08  2020               0\n",
       "Os 7 de Chicago                 0.09  2020               0\n",
       "Mank                            0.08  2020               0"
      ]
     },
     "execution_count": 166,
     "metadata": {},
     "output_type": "execute_result"
    }
   ],
   "source": [
    "prediction_2021"
   ]
  },
  {
   "cell_type": "markdown",
   "metadata": {},
   "source": [
    "Os 7 de Chicago"
   ]
  },
  {
   "cell_type": "markdown",
   "metadata": {},
   "source": [
    "# Decision Tree"
   ]
  },
  {
   "cell_type": "code",
   "execution_count": 173,
   "metadata": {
    "ExecuteTime": {
     "end_time": "2021-04-23T02:30:49.489323Z",
     "start_time": "2021-04-23T02:30:49.479317Z"
    }
   },
   "outputs": [],
   "source": [
    "from sklearn.tree import DecisionTreeClassifier"
   ]
  },
  {
   "cell_type": "code",
   "execution_count": 174,
   "metadata": {
    "ExecuteTime": {
     "end_time": "2021-04-23T02:30:51.215180Z",
     "start_time": "2021-04-23T02:30:51.183629Z"
    }
   },
   "outputs": [
    {
     "data": {
      "text/plain": [
       "DecisionTreeClassifier(criterion='entropy', random_state=0)"
      ]
     },
     "execution_count": 174,
     "metadata": {},
     "output_type": "execute_result"
    }
   ],
   "source": [
    "classifier_dt = DecisionTreeClassifier(criterion = 'entropy',random_state = 0)\n",
    "classifier_dt.fit(X_train, y_train)"
   ]
  },
  {
   "cell_type": "code",
   "execution_count": 175,
   "metadata": {
    "ExecuteTime": {
     "end_time": "2021-04-23T02:30:53.159220Z",
     "start_time": "2021-04-23T02:30:53.149249Z"
    }
   },
   "outputs": [
    {
     "name": "stdout",
     "output_type": "stream",
     "text": [
      "Decision tree has 107 nodes with maximum depth 16.\n"
     ]
    }
   ],
   "source": [
    "print(f'Decision tree has {classifier_dt.tree_.node_count} nodes with maximum depth {classifier_dt.tree_.max_depth}.')"
   ]
  },
  {
   "cell_type": "code",
   "execution_count": 176,
   "metadata": {
    "ExecuteTime": {
     "end_time": "2021-04-23T02:30:55.068798Z",
     "start_time": "2021-04-23T02:30:55.053407Z"
    }
   },
   "outputs": [
    {
     "name": "stdout",
     "output_type": "stream",
     "text": [
      "Variable: runtime              Importance: 0.22\n",
      "Variable: Won Directors        Importance: 0.17\n",
      "Variable: votes                Importance: 0.15\n",
      "Variable: metascore            Importance: 0.15\n",
      "Variable: avg_vote             Importance: 0.11\n",
      "Variable: year                 Importance: 0.1\n",
      "Variable: Bafta Nominations    Importance: 0.04\n",
      "Variable: Oscar Nominations    Importance: 0.03\n",
      "Variable: Golden Globe Nominations Importance: 0.02\n",
      "Variable: Won Golden Globe     Importance: 0.01\n",
      "Variable: Won Bafta            Importance: 0.0\n",
      "Variable: Won Actors           Importance: 0.0\n"
     ]
    }
   ],
   "source": [
    "importances_tree = list(classifier_dt.feature_importances_)\n",
    "\n",
    "feature_importances = [(feature, round(importance, 2)) for feature, importance in zip(var_list, importances_tree)]\n",
    "\n",
    "feature_importances = sorted(feature_importances, key = lambda x: x[1], reverse = True)\n",
    "\n",
    "[print('Variable: {:20} Importance: {}'.format(*pair)) for pair in feature_importances];"
   ]
  },
  {
   "cell_type": "code",
   "execution_count": 177,
   "metadata": {
    "ExecuteTime": {
     "end_time": "2021-04-23T02:30:57.009459Z",
     "start_time": "2021-04-23T02:30:56.985525Z"
    }
   },
   "outputs": [],
   "source": [
    "from sklearn.tree import plot_tree"
   ]
  },
  {
   "cell_type": "code",
   "execution_count": 178,
   "metadata": {
    "ExecuteTime": {
     "end_time": "2021-04-23T02:30:58.529065Z",
     "start_time": "2021-04-23T02:30:58.517655Z"
    }
   },
   "outputs": [],
   "source": [
    "y_pred_dt = classifier_dt.predict(X_test)"
   ]
  },
  {
   "cell_type": "code",
   "execution_count": 179,
   "metadata": {
    "ExecuteTime": {
     "end_time": "2021-04-23T02:30:59.948571Z",
     "start_time": "2021-04-23T02:30:59.933619Z"
    }
   },
   "outputs": [],
   "source": [
    "from sklearn.metrics import confusion_matrix"
   ]
  },
  {
   "cell_type": "code",
   "execution_count": 180,
   "metadata": {
    "ExecuteTime": {
     "end_time": "2021-04-23T02:31:01.487014Z",
     "start_time": "2021-04-23T02:31:01.465985Z"
    }
   },
   "outputs": [],
   "source": [
    "cm_dt = confusion_matrix(y_test, y_pred_dt)"
   ]
  },
  {
   "cell_type": "code",
   "execution_count": 181,
   "metadata": {
    "ExecuteTime": {
     "end_time": "2021-04-23T02:31:03.190018Z",
     "start_time": "2021-04-23T02:31:02.945539Z"
    }
   },
   "outputs": [
    {
     "name": "stdout",
     "output_type": "stream",
     "text": [
      "Confusion matrix, without normalization\n",
      "[[82 13]\n",
      " [ 6 10]]\n"
     ]
    },
    {
     "data": {
      "image/png": "[encoded data removed]",
      "text/plain": [
       "<Figure size 720x720 with 2 Axes>"
      ]
     },
     "metadata": {
      "needs_background": "light"
     },
     "output_type": "display_data"
    }
   ],
   "source": [
    "plot_confusion_matrix(cm_dt, classes = ['Lost', 'Won'],\n",
    "                      title = 'Oscar Confusion Matrix',cmap=plt.cm.Blues)"
   ]
  },
  {
   "cell_type": "code",
   "execution_count": 182,
   "metadata": {
    "ExecuteTime": {
     "end_time": "2021-04-23T02:31:04.719106Z",
     "start_time": "2021-04-23T02:31:04.706676Z"
    }
   },
   "outputs": [],
   "source": [
    "from sklearn import metrics\n"
   ]
  },
  {
   "cell_type": "code",
   "execution_count": 183,
   "metadata": {
    "ExecuteTime": {
     "end_time": "2021-04-23T02:31:06.189672Z",
     "start_time": "2021-04-23T02:31:06.176696Z"
    }
   },
   "outputs": [
    {
     "name": "stdout",
     "output_type": "stream",
     "text": [
      "Accuracy 0.8288288288288288\n"
     ]
    }
   ],
   "source": [
    "print(\"Accuracy\", metrics.accuracy_score(y_test, y_pred_dt))"
   ]
  },
  {
   "cell_type": "code",
   "execution_count": 184,
   "metadata": {
    "ExecuteTime": {
     "end_time": "2021-04-23T02:31:07.845289Z",
     "start_time": "2021-04-23T02:31:07.834319Z"
    }
   },
   "outputs": [],
   "source": [
    "from sklearn.model_selection import cross_val_score\n"
   ]
  },
  {
   "cell_type": "code",
   "execution_count": 185,
   "metadata": {
    "ExecuteTime": {
     "end_time": "2021-04-23T02:31:09.471949Z",
     "start_time": "2021-04-23T02:31:09.411112Z"
    }
   },
   "outputs": [
    {
     "data": {
      "text/plain": [
       "array([0.80898876, 0.84269663, 0.80898876, 0.73033708, 0.88636364])"
      ]
     },
     "execution_count": 185,
     "metadata": {},
     "output_type": "execute_result"
    }
   ],
   "source": [
    "accuracies_dt = cross_val_score(estimator = classifier_dt, X = X_train, y = y_train, cv = 5)\n",
    "accuracies_dt"
   ]
  },
  {
   "cell_type": "code",
   "execution_count": 186,
   "metadata": {
    "ExecuteTime": {
     "end_time": "2021-04-23T02:31:11.019777Z",
     "start_time": "2021-04-23T02:31:11.007810Z"
    }
   },
   "outputs": [
    {
     "data": {
      "text/plain": [
       "0.8154749744637385"
      ]
     },
     "execution_count": 186,
     "metadata": {},
     "output_type": "execute_result"
    }
   ],
   "source": [
    "accuracies_dt.mean()"
   ]
  },
  {
   "cell_type": "code",
   "execution_count": 187,
   "metadata": {
    "ExecuteTime": {
     "end_time": "2021-04-23T02:31:12.513615Z",
     "start_time": "2021-04-23T02:31:12.485669Z"
    }
   },
   "outputs": [],
   "source": [
    "train_probs_dt = classifier_dt.predict_proba(X_train)[:, 1]\n",
    "probs_dt = classifier_dt.predict_proba(X_test)[:, 1]\n",
    "\n",
    "train_predictions_dt = classifier_dt.predict(X_train)\n",
    "predictions_dt = classifier_dt.predict(X_test)"
   ]
  },
  {
   "cell_type": "code",
   "execution_count": 188,
   "metadata": {
    "ExecuteTime": {
     "end_time": "2021-04-23T02:31:14.070295Z",
     "start_time": "2021-04-23T02:31:14.062285Z"
    }
   },
   "outputs": [],
   "source": [
    "from sklearn.metrics import precision_score, recall_score, roc_auc_score, roc_curve\n"
   ]
  },
  {
   "cell_type": "code",
   "execution_count": 189,
   "metadata": {
    "ExecuteTime": {
     "end_time": "2021-04-23T02:31:15.535165Z",
     "start_time": "2021-04-23T02:31:15.523197Z"
    }
   },
   "outputs": [
    {
     "data": {
      "text/plain": [
       "0.7440789473684211"
      ]
     },
     "execution_count": 189,
     "metadata": {},
     "output_type": "execute_result"
    }
   ],
   "source": [
    "roc_auc_score(y_train, train_probs_dt)\n",
    "roc_auc_score(y_test, probs_dt)"
   ]
  },
  {
   "cell_type": "code",
   "execution_count": 190,
   "metadata": {
    "ExecuteTime": {
     "end_time": "2021-04-23T02:31:17.062981Z",
     "start_time": "2021-04-23T02:31:17.050015Z"
    }
   },
   "outputs": [
    {
     "data": {
      "text/plain": [
       "0.5"
      ]
     },
     "execution_count": 190,
     "metadata": {},
     "output_type": "execute_result"
    }
   ],
   "source": [
    "roc_auc_score(y_test, [1 for _ in range(len(y_test))])"
   ]
  },
  {
   "cell_type": "code",
   "execution_count": 191,
   "metadata": {
    "ExecuteTime": {
     "end_time": "2021-04-23T02:31:18.684667Z",
     "start_time": "2021-04-23T02:31:18.499474Z"
    }
   },
   "outputs": [
    {
     "name": "stdout",
     "output_type": "stream",
     "text": [
      "Recall Baseline: 1.0 Test: 0.62 Train: 1.0\n",
      "Precision Baseline: 0.14 Test: 0.43 Train: 1.0\n",
      "Roc Baseline: 0.5 Test: 0.74 Train: 1.0\n"
     ]
    },
    {
     "data": {
      "image/png": "[encoded data removed]",
      "text/plain": [
       "<Figure size 576x432 with 1 Axes>"
      ]
     },
     "metadata": {
      "needs_background": "light"
     },
     "output_type": "display_data"
    }
   ],
   "source": [
    "evaluate_model(predictions_dt, probs_dt, train_predictions_dt, train_probs_dt)"
   ]
  },
  {
   "cell_type": "code",
   "execution_count": 192,
   "metadata": {
    "ExecuteTime": {
     "end_time": "2021-04-23T02:31:20.164677Z",
     "start_time": "2021-04-23T02:31:20.152669Z"
    }
   },
   "outputs": [],
   "source": [
    "test_features = oscar[var_list].values\n"
   ]
  },
  {
   "cell_type": "code",
   "execution_count": 193,
   "metadata": {
    "ExecuteTime": {
     "end_time": "2021-04-23T02:31:21.688291Z",
     "start_time": "2021-04-23T02:31:21.676282Z"
    }
   },
   "outputs": [
    {
     "data": {
      "text/plain": [
       "array([[2.01700e+03, 7.20000e+00, 1.30017e+05, ..., 0.00000e+00,\n",
       "        0.00000e+00, 0.00000e+00],\n",
       "       [2.01700e+03, 7.50000e+00, 1.06231e+05, ..., 4.00000e+00,\n",
       "        0.00000e+00, 0.00000e+00],\n",
       "       [2.01700e+03, 8.20000e+00, 4.11693e+05, ..., 9.00000e+00,\n",
       "        0.00000e+00, 1.00000e+00],\n",
       "       ...,\n",
       "       [2.02000e+03, 7.50000e+00, 5.63440e+04, ..., 7.00000e+00,\n",
       "        0.00000e+00, 0.00000e+00],\n",
       "       [2.02000e+03, 7.80000e+00, 1.31684e+05, ..., 3.00000e+00,\n",
       "        0.00000e+00, 0.00000e+00],\n",
       "       [2.02000e+03, 7.00000e+00, 5.40500e+04, ..., 6.00000e+00,\n",
       "        0.00000e+00, 0.00000e+00]])"
      ]
     },
     "execution_count": 193,
     "metadata": {},
     "output_type": "execute_result"
    }
   ],
   "source": [
    "test_features"
   ]
  },
  {
   "cell_type": "code",
   "execution_count": 194,
   "metadata": {
    "ExecuteTime": {
     "end_time": "2021-04-23T02:31:23.263484Z",
     "start_time": "2021-04-23T02:31:23.240447Z"
    }
   },
   "outputs": [],
   "source": [
    "pred_tree = classifier_dt.predict_proba(test_features)[:,1]\n",
    "movie_name = np.array(oscar['title_pt'])\n",
    "year = np.array(oscar['year'])\n",
    "won_oscar = np.array(oscar['win'])"
   ]
  },
  {
   "cell_type": "code",
   "execution_count": 195,
   "metadata": {
    "ExecuteTime": {
     "end_time": "2021-04-23T02:31:24.838700Z",
     "start_time": "2021-04-23T02:31:24.825464Z"
    }
   },
   "outputs": [],
   "source": [
    "tree_prediction = pd.DataFrame(pred_tree,movie_name,columns =[\"Probability\"] )\n",
    "tree_prediction[\"Year\"] = year \n",
    "tree_prediction[\"Won\"] = won_oscar"
   ]
  },
  {
   "cell_type": "code",
   "execution_count": 196,
   "metadata": {
    "ExecuteTime": {
     "end_time": "2021-04-23T02:31:26.456066Z",
     "start_time": "2021-04-23T02:31:26.429094Z"
    },
    "scrolled": true
   },
   "outputs": [
    {
     "data": {
      "text/html": [
       "<div>\n",
       "<style scoped>\n",
       "    .dataframe tbody tr th:only-of-type {\n",
       "        vertical-align: middle;\n",
       "    }\n",
       "\n",
       "    .dataframe tbody tr th {\n",
       "        vertical-align: top;\n",
       "    }\n",
       "\n",
       "    .dataframe thead th {\n",
       "        text-align: right;\n",
       "    }\n",
       "</style>\n",
       "<table border=\"1\" class=\"dataframe\">\n",
       "  <thead>\n",
       "    <tr style=\"text-align: right;\">\n",
       "      <th></th>\n",
       "      <th>Probability</th>\n",
       "      <th>Year</th>\n",
       "      <th>Won</th>\n",
       "    </tr>\n",
       "  </thead>\n",
       "  <tbody>\n",
       "    <tr>\n",
       "      <th>Green Book: O Guia</th>\n",
       "      <td>1.0</td>\n",
       "      <td>2018</td>\n",
       "      <td>1</td>\n",
       "    </tr>\n",
       "    <tr>\n",
       "      <th>Nasce Uma Estrela</th>\n",
       "      <td>0.0</td>\n",
       "      <td>2018</td>\n",
       "      <td>0</td>\n",
       "    </tr>\n",
       "    <tr>\n",
       "      <th>Vice</th>\n",
       "      <td>0.0</td>\n",
       "      <td>2018</td>\n",
       "      <td>0</td>\n",
       "    </tr>\n",
       "    <tr>\n",
       "      <th>Ford v. Ferrari</th>\n",
       "      <td>0.0</td>\n",
       "      <td>2019</td>\n",
       "      <td>0</td>\n",
       "    </tr>\n",
       "    <tr>\n",
       "      <th>O Irlandes</th>\n",
       "      <td>0.0</td>\n",
       "      <td>2019</td>\n",
       "      <td>0</td>\n",
       "    </tr>\n",
       "    <tr>\n",
       "      <th>Jojo Rabbit</th>\n",
       "      <td>0.0</td>\n",
       "      <td>2019</td>\n",
       "      <td>0</td>\n",
       "    </tr>\n",
       "    <tr>\n",
       "      <th>Coringa</th>\n",
       "      <td>0.0</td>\n",
       "      <td>2019</td>\n",
       "      <td>0</td>\n",
       "    </tr>\n",
       "    <tr>\n",
       "      <th>Adoraveis Mulheres</th>\n",
       "      <td>0.0</td>\n",
       "      <td>2019</td>\n",
       "      <td>0</td>\n",
       "    </tr>\n",
       "    <tr>\n",
       "      <th>História de um Casamento</th>\n",
       "      <td>0.0</td>\n",
       "      <td>2019</td>\n",
       "      <td>0</td>\n",
       "    </tr>\n",
       "    <tr>\n",
       "      <th>1917</th>\n",
       "      <td>0.0</td>\n",
       "      <td>2019</td>\n",
       "      <td>0</td>\n",
       "    </tr>\n",
       "    <tr>\n",
       "      <th>Era uma vez em Hollywood</th>\n",
       "      <td>0.0</td>\n",
       "      <td>2019</td>\n",
       "      <td>0</td>\n",
       "    </tr>\n",
       "    <tr>\n",
       "      <th>Parasita</th>\n",
       "      <td>1.0</td>\n",
       "      <td>2019</td>\n",
       "      <td>1</td>\n",
       "    </tr>\n",
       "    <tr>\n",
       "      <th>Minari</th>\n",
       "      <td>0.0</td>\n",
       "      <td>2020</td>\n",
       "      <td>0</td>\n",
       "    </tr>\n",
       "    <tr>\n",
       "      <th>Bela Vingança</th>\n",
       "      <td>0.0</td>\n",
       "      <td>2020</td>\n",
       "      <td>0</td>\n",
       "    </tr>\n",
       "    <tr>\n",
       "      <th>O Som do Silêncio</th>\n",
       "      <td>0.0</td>\n",
       "      <td>2020</td>\n",
       "      <td>0</td>\n",
       "    </tr>\n",
       "    <tr>\n",
       "      <th>Meu Pai</th>\n",
       "      <td>0.0</td>\n",
       "      <td>2020</td>\n",
       "      <td>0</td>\n",
       "    </tr>\n",
       "    <tr>\n",
       "      <th>Judas e o Messias Negro</th>\n",
       "      <td>0.0</td>\n",
       "      <td>2020</td>\n",
       "      <td>0</td>\n",
       "    </tr>\n",
       "    <tr>\n",
       "      <th>Nomadland</th>\n",
       "      <td>0.0</td>\n",
       "      <td>2020</td>\n",
       "      <td>0</td>\n",
       "    </tr>\n",
       "    <tr>\n",
       "      <th>Os 7 de Chicago</th>\n",
       "      <td>1.0</td>\n",
       "      <td>2020</td>\n",
       "      <td>0</td>\n",
       "    </tr>\n",
       "    <tr>\n",
       "      <th>Mank</th>\n",
       "      <td>0.0</td>\n",
       "      <td>2020</td>\n",
       "      <td>0</td>\n",
       "    </tr>\n",
       "  </tbody>\n",
       "</table>\n",
       "</div>"
      ],
      "text/plain": [
       "                          Probability  Year  Won\n",
       "Green Book: O Guia                1.0  2018    1\n",
       " Nasce Uma Estrela                0.0  2018    0\n",
       "Vice                              0.0  2018    0\n",
       "Ford v. Ferrari                   0.0  2019    0\n",
       "O Irlandes                        0.0  2019    0\n",
       "Jojo Rabbit                       0.0  2019    0\n",
       "Coringa                           0.0  2019    0\n",
       "Adoraveis Mulheres                0.0  2019    0\n",
       "História de um Casamento          0.0  2019    0\n",
       "1917                              0.0  2019    0\n",
       "Era uma vez em Hollywood          0.0  2019    0\n",
       "Parasita                          1.0  2019    1\n",
       "Minari                            0.0  2020    0\n",
       "Bela Vingança                     0.0  2020    0\n",
       "O Som do Silêncio                 0.0  2020    0\n",
       "Meu Pai                           0.0  2020    0\n",
       "Judas e o Messias Negro           0.0  2020    0\n",
       "Nomadland                         0.0  2020    0\n",
       "Os 7 de Chicago                   1.0  2020    0\n",
       "Mank                              0.0  2020    0"
      ]
     },
     "execution_count": 196,
     "metadata": {},
     "output_type": "execute_result"
    }
   ],
   "source": [
    "tree_prediction.tail(20)"
   ]
  },
  {
   "cell_type": "markdown",
   "metadata": {},
   "source": [
    "Os 7 de Chicago"
   ]
  },
  {
   "cell_type": "markdown",
   "metadata": {},
   "source": [
    "# Random Forest Classifier"
   ]
  },
  {
   "cell_type": "code",
   "execution_count": 204,
   "metadata": {
    "ExecuteTime": {
     "end_time": "2021-04-23T02:32:30.349070Z",
     "start_time": "2021-04-23T02:32:30.336066Z"
    }
   },
   "outputs": [],
   "source": [
    "from sklearn.ensemble import RandomForestClassifier"
   ]
  },
  {
   "cell_type": "code",
   "execution_count": 205,
   "metadata": {
    "ExecuteTime": {
     "end_time": "2021-04-23T02:32:32.249580Z",
     "start_time": "2021-04-23T02:32:32.063079Z"
    }
   },
   "outputs": [
    {
     "data": {
      "text/plain": [
       "RandomForestClassifier(criterion='entropy', random_state=0)"
      ]
     },
     "execution_count": 205,
     "metadata": {},
     "output_type": "execute_result"
    }
   ],
   "source": [
    "classifier_rf = RandomForestClassifier(n_estimators = 100,random_state = 0,criterion = 'entropy')\n",
    "classifier_rf.fit(X_train, y_train)"
   ]
  },
  {
   "cell_type": "code",
   "execution_count": 206,
   "metadata": {
    "ExecuteTime": {
     "end_time": "2021-04-23T02:32:33.870486Z",
     "start_time": "2021-04-23T02:32:33.842564Z"
    }
   },
   "outputs": [
    {
     "name": "stdout",
     "output_type": "stream",
     "text": [
      "Variable: votes                Importance: 0.19\n",
      "Variable: runtime              Importance: 0.16\n",
      "Variable: year                 Importance: 0.13\n",
      "Variable: avg_vote             Importance: 0.12\n",
      "Variable: Won Directors        Importance: 0.12\n",
      "Variable: metascore            Importance: 0.11\n",
      "Variable: Oscar Nominations    Importance: 0.05\n",
      "Variable: Golden Globe Nominations Importance: 0.04\n",
      "Variable: Bafta Nominations    Importance: 0.04\n",
      "Variable: Won Golden Globe     Importance: 0.02\n",
      "Variable: Won Bafta            Importance: 0.01\n",
      "Variable: Won Actors           Importance: 0.01\n"
     ]
    }
   ],
   "source": [
    "importances_forest = list(classifier_rf.feature_importances_)\n",
    "\n",
    "feature_importances = [(feature, round(importance, 2)) for feature, importance in zip(var_list, importances_forest)]\n",
    "\n",
    "feature_importances = sorted(feature_importances, key = lambda x: x[1], reverse = True)\n",
    "\n",
    "[print('Variable: {:20} Importance: {}'.format(*pair)) for pair in feature_importances];"
   ]
  },
  {
   "cell_type": "code",
   "execution_count": 207,
   "metadata": {
    "ExecuteTime": {
     "end_time": "2021-04-23T02:32:35.528416Z",
     "start_time": "2021-04-23T02:32:35.500490Z"
    }
   },
   "outputs": [],
   "source": [
    "rf_small = RandomForestClassifier(n_estimators=10, max_depth = 4,criterion = 'entropy', random_state = 0)\n",
    "rf_small.fit(X_train, y_train)\n",
    "\n",
    "tree_small = rf_small.estimators_[5];"
   ]
  },
  {
   "cell_type": "code",
   "execution_count": 208,
   "metadata": {
    "ExecuteTime": {
     "end_time": "2021-04-23T02:32:37.279557Z",
     "start_time": "2021-04-23T02:32:37.252655Z"
    }
   },
   "outputs": [],
   "source": [
    "y_pred_rf = classifier_rf.predict(X_test)"
   ]
  },
  {
   "cell_type": "code",
   "execution_count": 209,
   "metadata": {
    "ExecuteTime": {
     "end_time": "2021-04-23T02:32:39.000251Z",
     "start_time": "2021-04-23T02:32:38.988282Z"
    }
   },
   "outputs": [],
   "source": [
    "from sklearn.metrics import confusion_matrix"
   ]
  },
  {
   "cell_type": "code",
   "execution_count": 210,
   "metadata": {
    "ExecuteTime": {
     "end_time": "2021-04-23T02:32:40.646814Z",
     "start_time": "2021-04-23T02:32:40.634732Z"
    }
   },
   "outputs": [],
   "source": [
    "cm_rf = confusion_matrix(y_test, y_pred_rf)"
   ]
  },
  {
   "cell_type": "code",
   "execution_count": 211,
   "metadata": {
    "ExecuteTime": {
     "end_time": "2021-04-23T02:32:42.619635Z",
     "start_time": "2021-04-23T02:32:42.376829Z"
    }
   },
   "outputs": [
    {
     "name": "stdout",
     "output_type": "stream",
     "text": [
      "Confusion matrix, without normalization\n",
      "[[91  4]\n",
      " [ 9  7]]\n"
     ]
    },
    {
     "data": {
      "image/png": "[encoded data removed]",
      "text/plain": [
       "<Figure size 720x720 with 2 Axes>"
      ]
     },
     "metadata": {
      "needs_background": "light"
     },
     "output_type": "display_data"
    }
   ],
   "source": [
    "plot_confusion_matrix(cm_rf, classes = ['Lost Oscar', 'Won Oscar'], title = 'Oscar Confusion Matrix',cmap=plt.cm.Blues)"
   ]
  },
  {
   "cell_type": "code",
   "execution_count": 212,
   "metadata": {
    "ExecuteTime": {
     "end_time": "2021-04-23T02:32:44.256857Z",
     "start_time": "2021-04-23T02:32:44.243893Z"
    }
   },
   "outputs": [
    {
     "data": {
      "text/plain": [
       "0.8828828828828829"
      ]
     },
     "execution_count": 212,
     "metadata": {},
     "output_type": "execute_result"
    }
   ],
   "source": [
    "from sklearn import metrics\n",
    "metrics.accuracy_score(y_test, y_pred_rf)"
   ]
  },
  {
   "cell_type": "code",
   "execution_count": 213,
   "metadata": {
    "ExecuteTime": {
     "end_time": "2021-04-23T02:32:46.090133Z",
     "start_time": "2021-04-23T02:32:46.077767Z"
    }
   },
   "outputs": [],
   "source": [
    "from sklearn.model_selection import cross_val_score"
   ]
  },
  {
   "cell_type": "code",
   "execution_count": 214,
   "metadata": {
    "ExecuteTime": {
     "end_time": "2021-04-23T02:32:49.163032Z",
     "start_time": "2021-04-23T02:32:47.722141Z"
    }
   },
   "outputs": [
    {
     "data": {
      "text/plain": [
       "array([0.82142857, 0.89285714, 0.875     , 0.94642857, 0.89090909,\n",
       "       0.81818182, 0.83636364, 0.92727273])"
      ]
     },
     "execution_count": 214,
     "metadata": {},
     "output_type": "execute_result"
    }
   ],
   "source": [
    "\n",
    "accuracies_rf = cross_val_score(estimator = classifier_rf, X = X_train, y = y_train, cv = 8)\n",
    "accuracies_rf"
   ]
  },
  {
   "cell_type": "code",
   "execution_count": 215,
   "metadata": {
    "ExecuteTime": {
     "end_time": "2021-04-23T02:32:50.911734Z",
     "start_time": "2021-04-23T02:32:50.898731Z"
    }
   },
   "outputs": [
    {
     "data": {
      "text/plain": [
       "0.8760551948051948"
      ]
     },
     "execution_count": 215,
     "metadata": {},
     "output_type": "execute_result"
    }
   ],
   "source": [
    "\n",
    "accuracies_rf.mean()"
   ]
  },
  {
   "cell_type": "code",
   "execution_count": 216,
   "metadata": {
    "ExecuteTime": {
     "end_time": "2021-04-23T02:32:52.607841Z",
     "start_time": "2021-04-23T02:32:52.516683Z"
    }
   },
   "outputs": [],
   "source": [
    "train_probs_rf = classifier_rf.predict_proba(X_train)[:, 1]\n",
    "probs_rf = classifier_rf.predict_proba(X_test)[:, 1]\n",
    "\n",
    "train_predictions_rf = classifier_rf.predict(X_train)\n",
    "predictions_rf = classifier_rf.predict(X_test)"
   ]
  },
  {
   "cell_type": "code",
   "execution_count": 217,
   "metadata": {
    "ExecuteTime": {
     "end_time": "2021-04-23T02:32:54.344397Z",
     "start_time": "2021-04-23T02:32:54.331555Z"
    }
   },
   "outputs": [],
   "source": [
    "from sklearn.metrics import precision_score, recall_score, roc_auc_score, roc_curve"
   ]
  },
  {
   "cell_type": "code",
   "execution_count": 218,
   "metadata": {
    "ExecuteTime": {
     "end_time": "2021-04-23T02:32:56.168822Z",
     "start_time": "2021-04-23T02:32:56.156831Z"
    }
   },
   "outputs": [
    {
     "name": "stdout",
     "output_type": "stream",
     "text": [
      "Train ROC AUC Score: 1.0\n",
      "Test ROC AUC  Score: 0.8759868421052631\n"
     ]
    }
   ],
   "source": [
    "print(f'Train ROC AUC Score: {roc_auc_score(y_train, train_probs_rf)}')\n",
    "print(f'Test ROC AUC  Score: {roc_auc_score(y_test, probs_rf)}')"
   ]
  },
  {
   "cell_type": "code",
   "execution_count": 219,
   "metadata": {
    "ExecuteTime": {
     "end_time": "2021-04-23T02:32:57.934101Z",
     "start_time": "2021-04-23T02:32:57.922089Z"
    }
   },
   "outputs": [
    {
     "data": {
      "text/plain": [
       "0.5"
      ]
     },
     "execution_count": 219,
     "metadata": {},
     "output_type": "execute_result"
    }
   ],
   "source": [
    "roc_auc_score(y_test, [1 for _ in range(len(y_test))])"
   ]
  },
  {
   "cell_type": "code",
   "execution_count": 220,
   "metadata": {
    "ExecuteTime": {
     "end_time": "2021-04-23T02:32:59.975027Z",
     "start_time": "2021-04-23T02:32:59.771571Z"
    }
   },
   "outputs": [
    {
     "name": "stdout",
     "output_type": "stream",
     "text": [
      "Recall Baseline: 1.0 Test: 0.44 Train: 1.0\n",
      "Precision Baseline: 0.14 Test: 0.64 Train: 1.0\n",
      "Roc Baseline: 0.5 Test: 0.88 Train: 1.0\n"
     ]
    },
    {
     "data": {
      "image/png": "[encoded data removed]",
      "text/plain": [
       "<Figure size 576x432 with 1 Axes>"
      ]
     },
     "metadata": {
      "needs_background": "light"
     },
     "output_type": "display_data"
    }
   ],
   "source": [
    "\n",
    "evaluate_model(predictions_rf, probs_rf, train_predictions_rf, train_probs_rf)"
   ]
  },
  {
   "cell_type": "code",
   "execution_count": 221,
   "metadata": {
    "ExecuteTime": {
     "end_time": "2021-04-23T02:33:01.855925Z",
     "start_time": "2021-04-23T02:33:01.843956Z"
    }
   },
   "outputs": [
    {
     "data": {
      "text/plain": [
       "array([[2.01700e+03, 7.20000e+00, 1.30017e+05, ..., 0.00000e+00,\n",
       "        0.00000e+00, 0.00000e+00],\n",
       "       [2.01700e+03, 7.50000e+00, 1.06231e+05, ..., 4.00000e+00,\n",
       "        0.00000e+00, 0.00000e+00],\n",
       "       [2.01700e+03, 8.20000e+00, 4.11693e+05, ..., 9.00000e+00,\n",
       "        0.00000e+00, 1.00000e+00],\n",
       "       ...,\n",
       "       [2.02000e+03, 7.50000e+00, 5.63440e+04, ..., 7.00000e+00,\n",
       "        0.00000e+00, 0.00000e+00],\n",
       "       [2.02000e+03, 7.80000e+00, 1.31684e+05, ..., 3.00000e+00,\n",
       "        0.00000e+00, 0.00000e+00],\n",
       "       [2.02000e+03, 7.00000e+00, 5.40500e+04, ..., 6.00000e+00,\n",
       "        0.00000e+00, 0.00000e+00]])"
      ]
     },
     "execution_count": 221,
     "metadata": {},
     "output_type": "execute_result"
    }
   ],
   "source": [
    "oscar[var_list].values"
   ]
  },
  {
   "cell_type": "code",
   "execution_count": 222,
   "metadata": {
    "ExecuteTime": {
     "end_time": "2021-04-23T02:33:03.547213Z",
     "start_time": "2021-04-23T02:33:03.519035Z"
    }
   },
   "outputs": [],
   "source": [
    "pred_forest = classifier_rf.predict_proba(oscar[var_list].values)[:,1]\n",
    "movie_name = np.array(oscar['title'])\n",
    "year = np.array(oscar['year'])\n",
    "won_oscar = np.array(oscar['win'])"
   ]
  },
  {
   "cell_type": "code",
   "execution_count": 223,
   "metadata": {
    "ExecuteTime": {
     "end_time": "2021-04-23T02:33:05.269595Z",
     "start_time": "2021-04-23T02:33:05.257626Z"
    }
   },
   "outputs": [],
   "source": [
    "forest_prediction = pd.DataFrame(pred_forest,movie_name,columns =[\"Probability\"] )\n",
    "forest_prediction[\"Year\"] = year \n",
    "forest_prediction[\"Won\"] = won_oscar"
   ]
  },
  {
   "cell_type": "code",
   "execution_count": 224,
   "metadata": {
    "ExecuteTime": {
     "end_time": "2021-04-23T02:33:07.135349Z",
     "start_time": "2021-04-23T02:33:07.108381Z"
    }
   },
   "outputs": [
    {
     "data": {
      "text/html": [
       "<div>\n",
       "<style scoped>\n",
       "    .dataframe tbody tr th:only-of-type {\n",
       "        vertical-align: middle;\n",
       "    }\n",
       "\n",
       "    .dataframe tbody tr th {\n",
       "        vertical-align: top;\n",
       "    }\n",
       "\n",
       "    .dataframe thead th {\n",
       "        text-align: right;\n",
       "    }\n",
       "</style>\n",
       "<table border=\"1\" class=\"dataframe\">\n",
       "  <thead>\n",
       "    <tr style=\"text-align: right;\">\n",
       "      <th></th>\n",
       "      <th>Probability</th>\n",
       "      <th>Year</th>\n",
       "      <th>Won</th>\n",
       "    </tr>\n",
       "  </thead>\n",
       "  <tbody>\n",
       "    <tr>\n",
       "      <th>Green Book</th>\n",
       "      <td>0.64</td>\n",
       "      <td>2018</td>\n",
       "      <td>1</td>\n",
       "    </tr>\n",
       "    <tr>\n",
       "      <th>A Star Is Born</th>\n",
       "      <td>0.01</td>\n",
       "      <td>2018</td>\n",
       "      <td>0</td>\n",
       "    </tr>\n",
       "    <tr>\n",
       "      <th>Vice - L'uomo nell'ombra</th>\n",
       "      <td>0.02</td>\n",
       "      <td>2018</td>\n",
       "      <td>0</td>\n",
       "    </tr>\n",
       "    <tr>\n",
       "      <th>Le Mans '66 - La grande sfida</th>\n",
       "      <td>0.03</td>\n",
       "      <td>2019</td>\n",
       "      <td>0</td>\n",
       "    </tr>\n",
       "    <tr>\n",
       "      <th>The Irishman</th>\n",
       "      <td>0.10</td>\n",
       "      <td>2019</td>\n",
       "      <td>0</td>\n",
       "    </tr>\n",
       "    <tr>\n",
       "      <th>Jojo Rabbit</th>\n",
       "      <td>0.19</td>\n",
       "      <td>2019</td>\n",
       "      <td>0</td>\n",
       "    </tr>\n",
       "    <tr>\n",
       "      <th>Joker</th>\n",
       "      <td>0.09</td>\n",
       "      <td>2019</td>\n",
       "      <td>0</td>\n",
       "    </tr>\n",
       "    <tr>\n",
       "      <th>Piccole donne</th>\n",
       "      <td>0.01</td>\n",
       "      <td>2019</td>\n",
       "      <td>0</td>\n",
       "    </tr>\n",
       "    <tr>\n",
       "      <th>Storia di un matrimonio</th>\n",
       "      <td>0.03</td>\n",
       "      <td>2019</td>\n",
       "      <td>0</td>\n",
       "    </tr>\n",
       "    <tr>\n",
       "      <th>1917</th>\n",
       "      <td>0.08</td>\n",
       "      <td>2019</td>\n",
       "      <td>0</td>\n",
       "    </tr>\n",
       "    <tr>\n",
       "      <th>C'era una volta a... Hollywood</th>\n",
       "      <td>0.06</td>\n",
       "      <td>2019</td>\n",
       "      <td>0</td>\n",
       "    </tr>\n",
       "    <tr>\n",
       "      <th>Parasite</th>\n",
       "      <td>0.83</td>\n",
       "      <td>2019</td>\n",
       "      <td>1</td>\n",
       "    </tr>\n",
       "    <tr>\n",
       "      <th>Minari</th>\n",
       "      <td>0.00</td>\n",
       "      <td>2020</td>\n",
       "      <td>0</td>\n",
       "    </tr>\n",
       "    <tr>\n",
       "      <th>Promising Young Woman</th>\n",
       "      <td>0.00</td>\n",
       "      <td>2020</td>\n",
       "      <td>0</td>\n",
       "    </tr>\n",
       "    <tr>\n",
       "      <th>Sound of Metal</th>\n",
       "      <td>0.00</td>\n",
       "      <td>2020</td>\n",
       "      <td>0</td>\n",
       "    </tr>\n",
       "    <tr>\n",
       "      <th>The Father</th>\n",
       "      <td>0.00</td>\n",
       "      <td>2020</td>\n",
       "      <td>0</td>\n",
       "    </tr>\n",
       "    <tr>\n",
       "      <th>Judas and the Black Messiah</th>\n",
       "      <td>0.00</td>\n",
       "      <td>2020</td>\n",
       "      <td>0</td>\n",
       "    </tr>\n",
       "    <tr>\n",
       "      <th>Nomadland</th>\n",
       "      <td>0.02</td>\n",
       "      <td>2020</td>\n",
       "      <td>0</td>\n",
       "    </tr>\n",
       "    <tr>\n",
       "      <th>The Trial of the Chicago 7</th>\n",
       "      <td>0.02</td>\n",
       "      <td>2020</td>\n",
       "      <td>0</td>\n",
       "    </tr>\n",
       "    <tr>\n",
       "      <th>Mank</th>\n",
       "      <td>0.02</td>\n",
       "      <td>2020</td>\n",
       "      <td>0</td>\n",
       "    </tr>\n",
       "  </tbody>\n",
       "</table>\n",
       "</div>"
      ],
      "text/plain": [
       "                                Probability  Year  Won\n",
       "Green Book                             0.64  2018    1\n",
       "A Star Is Born                         0.01  2018    0\n",
       "Vice - L'uomo nell'ombra               0.02  2018    0\n",
       "Le Mans '66 - La grande sfida          0.03  2019    0\n",
       "The Irishman                           0.10  2019    0\n",
       "Jojo Rabbit                            0.19  2019    0\n",
       "Joker                                  0.09  2019    0\n",
       "Piccole donne                          0.01  2019    0\n",
       "Storia di un matrimonio                0.03  2019    0\n",
       "1917                                   0.08  2019    0\n",
       "C'era una volta a... Hollywood         0.06  2019    0\n",
       "Parasite                               0.83  2019    1\n",
       "Minari                                 0.00  2020    0\n",
       "Promising Young Woman                  0.00  2020    0\n",
       "Sound of Metal                         0.00  2020    0\n",
       "The Father                             0.00  2020    0\n",
       "Judas and the Black Messiah            0.00  2020    0\n",
       "Nomadland                              0.02  2020    0\n",
       "The Trial of the Chicago 7             0.02  2020    0\n",
       "Mank                                   0.02  2020    0"
      ]
     },
     "execution_count": 224,
     "metadata": {},
     "output_type": "execute_result"
    }
   ],
   "source": [
    "\n",
    "forest_prediction.tail(20)"
   ]
  },
  {
   "cell_type": "markdown",
   "metadata": {},
   "source": [
    "????"
   ]
  },
  {
   "cell_type": "code",
   "execution_count": null,
   "metadata": {},
   "outputs": [],
   "source": []
  },
  {
   "cell_type": "code",
   "execution_count": null,
   "metadata": {},
   "outputs": [],
   "source": []
  },
  {
   "cell_type": "code",
   "execution_count": null,
   "metadata": {},
   "outputs": [],
   "source": []
  }
 ],
 "metadata": {
  "kernelspec": {
   "display_name": "Python 3",
   "language": "python",
   "name": "python3"
  },
  "language_info": {
   "codemirror_mode": {
    "name": "ipython",
    "version": 3
   },
   "file_extension": ".py",
   "mimetype": "text/x-python",
   "name": "python",
   "nbconvert_exporter": "python",
   "pygments_lexer": "ipython3",
   "version": "3.8.3"
  },
  "toc": {
   "base_numbering": 1,
   "nav_menu": {},
   "number_sections": true,
   "sideBar": true,
   "skip_h1_title": false,
   "title_cell": "Table of Contents",
   "title_sidebar": "Contents",
   "toc_cell": false,
   "toc_position": {},
   "toc_section_display": true,
   "toc_window_display": false
  },
  "varInspector": {
   "cols": {
    "lenName": 16,
    "lenType": 16,
    "lenVar": 40
   },
   "kernels_config": {
    "python": {
     "delete_cmd_postfix": "",
     "delete_cmd_prefix": "del ",
     "library": "var_list.py",
     "varRefreshCmd": "print(var_dic_list())"
    },
    "r": {
     "delete_cmd_postfix": ") ",
     "delete_cmd_prefix": "rm(",
     "library": "var_list.r",
     "varRefreshCmd": "cat(var_dic_list()) "
    }
   },
   "types_to_exclude": [
    "module",
    "function",
    "builtin_function_or_method",
    "instance",
    "_Feature"
   ],
   "window_display": false
  }
 },
 "nbformat": 4,
 "nbformat_minor": 4
}
